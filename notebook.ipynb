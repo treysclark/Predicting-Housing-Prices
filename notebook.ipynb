{
 "cells": [
  {
   "cell_type": "markdown",
   "id": "87dbf00b",
   "metadata": {
    "papermill": {
     "duration": 0.040772,
     "end_time": "2022-01-17T21:20:28.845429",
     "exception": false,
     "start_time": "2022-01-17T21:20:28.804657",
     "status": "completed"
    },
    "tags": []
   },
   "source": [
    "# Predicting Housing Prices\n",
    "\n",
    "**Trey S. Clark**"
   ]
  },
  {
   "cell_type": "markdown",
   "id": "a981d88a",
   "metadata": {
    "papermill": {
     "duration": 0.037132,
     "end_time": "2022-01-17T21:20:28.920701",
     "exception": false,
     "start_time": "2022-01-17T21:20:28.883569",
     "status": "completed"
    },
    "tags": []
   },
   "source": [
    "# Index\n",
    "\n",
    "- [Abstract](#Abstract)\n",
    "- [1. Introduction](#1.-Introduction)\n",
    "- [2. The Data](#2.-The-Data)\n",
    "    - [2.1 Import the Data](#2.1-Import-the-Data)\n",
    "    - [2.2 Data Exploration](#2.2-Data-Exploration)\n",
    "    - [2.3 Data Preparation](#2.3-Data-Preparation)\n",
    "    - [2.4 Correlation](#2.4-Correlation)\n",
    "- [3. Project Description](#3.-Project-Description)\n",
    "    - [3.1 Linear Regression](#3.1-Linear-Regression)\n",
    "    - [3.2 Analysis](#3.2-Analysis)\n",
    "    - [3.3 Results](#3.3-Results)\n",
    "    - [3.4 Verify Your Model Against Test Data](#3.4-Verify-Your-Model-Against-Test-Data)\n",
    "- [Conclusion](#Conclusion)\n",
    "- [References](#References)"
   ]
  },
  {
   "cell_type": "markdown",
   "id": "ab73beaa",
   "metadata": {
    "papermill": {
     "duration": 0.03724,
     "end_time": "2022-01-17T21:20:28.996201",
     "exception": false,
     "start_time": "2022-01-17T21:20:28.958961",
     "status": "completed"
    },
    "tags": []
   },
   "source": [
    "[Back to top](#Index)\n",
    "\n",
    "\n",
    "##  Abstract\n",
    "\n",
    "In 2019, Yahoo ran an article called \"[Meet the A.I. Landlord That’s Building a Single-Family-Home Empire](https://www.yahoo.com/now/meet-landlord-building-single-family-103058132.html).\" It is clear from the headline that companies are investing heavily in predictive housing models. Whether it is [Zillow's iBuyer](https://www.vox.com/22743258/home-buying-zillow-redfin-ibuyers-real-estate) program buying and selling houses or private-equity firms like [Blackstone Group](https://www.reuters.com/business/blackstone-buy-home-partners-america-6-billion-deal-wsj-2021-06-22/) entering the single-family rental market, the need for predictive housing models has never been greater. \n",
    "\n",
    "With such large players entering the market, it is worth asking: \"Is predictive modeling only available to deep-pocketed Wall Street firms?\" Or, is it possible for small players in the real estate industry to develop accurate housing models? The following report shows how this is indeed possible. "
   ]
  },
  {
   "cell_type": "markdown",
   "id": "071afe03",
   "metadata": {
    "papermill": {
     "duration": 0.03814,
     "end_time": "2022-01-17T21:20:29.072005",
     "exception": false,
     "start_time": "2022-01-17T21:20:29.033865",
     "status": "completed"
    },
    "tags": []
   },
   "source": [
    "[Back to top](#Index)\n",
    "\n",
    "\n",
    "## 1. Introduction\n",
    "\n",
    "The world is awash in data and free tools to process it. It is now easier than ever to build accurate models from datasets. The following report explores if housing prices can be predicted with at least 90% accuracy using publicly available datasets and software tools.\n",
    "\n",
    "The first step in accomplishing this was to explore and clean the data. Pandas was used to load the data into memory from CSV files. Two subsets of data were used to train and validate the data.\n",
    "\n",
    "During the data exploration, the data_description.txt file helped provide context about the 82 fields in the dataset. Through this exploration, it was discovered that 16 fields had categorical data that was ordinal. The ordinal data was not included in the model. However, it could be added using one-hot-encoding. \n",
    "\n",
    "The data was cleaned by selecting the numeric data and using linear interpolation to fill in missing values. In addition, columns that only had zero values were removed. \n",
    "\n",
    "Then correlations between the remaining data and the sales price were identified. The fields were grouped by their correlation strength. Twenty-nine variables had at least a moderate correlation, defined as a correlation coefficient greater than 0.39. \n",
    "\n",
    "At this point, the data was split into three different groups. Group 1 was not restricted by the correlation coefficient. Group 2 contained a correlation coefficient greater than 0.19. Group 3 contained correlation coefficients greater than 0.39.\n",
    "\n",
    "Afterward, a linear regression model was created for the three groups of variables. The Coefficient of Determination was used to determine whether the linear regression algorithm was a good fit for the models. Then the models were validated against the test data."
   ]
  },
  {
   "cell_type": "markdown",
   "id": "ea45d281",
   "metadata": {
    "papermill": {
     "duration": 0.037409,
     "end_time": "2022-01-17T21:20:29.147803",
     "exception": false,
     "start_time": "2022-01-17T21:20:29.110394",
     "status": "completed"
    },
    "tags": []
   },
   "source": [
    "[Back to top](#Index)\n",
    "\n",
    "## 2. The Data\n",
    "\n"
   ]
  },
  {
   "cell_type": "markdown",
   "id": "d804b367",
   "metadata": {
    "papermill": {
     "duration": 0.036868,
     "end_time": "2022-01-17T21:20:29.222090",
     "exception": false,
     "start_time": "2022-01-17T21:20:29.185222",
     "status": "completed"
    },
    "tags": []
   },
   "source": [
    "[Back to top](#Index)\n",
    "\n",
    "### 2.1 Import the Data\n",
    "\n",
    "##### Data:\n",
    "\n",
    "- **Training Dataset:** ./source/housesmalldata/houseSmallData.csv \n",
    "    - The dataset is a detailed list about the property details (82 columns) of 100 houses sold in particular neighborhoods.\n",
    "\n",
    "\n",
    "- **Data Descriptions:** ./source/data-description/data_description.txt\n",
    "    - This text file provides descriptions of each field used in the dataset. It also explains the meaning of any codes used in the dataset.\n",
    "    \n",
    "#### Steps:\n",
    "\n",
    "1. **Import:** Numpy, Pandas, Matplotlib, Seaborn, Sklearn, and SciPy are imported to manipulate and visualize the data.\n",
    "\n",
    "2. **Read:** The training and test data are loaded into memory from csv files either through Kaggle or from this Github's repository.\n",
    "\n",
    "3. **Helper Functions:** Helper functions are created to track the change in columns as the data is cleaned."
   ]
  },
  {
   "cell_type": "code",
   "execution_count": 49,
   "id": "da61b833",
   "metadata": {
    "execution": {
     "iopub.execute_input": "2022-01-17T21:20:29.302076Z",
     "iopub.status.busy": "2022-01-17T21:20:29.300913Z",
     "iopub.status.idle": "2022-01-17T21:20:30.518395Z",
     "shell.execute_reply": "2022-01-17T21:20:30.518944Z",
     "shell.execute_reply.started": "2022-01-17T21:01:27.248224Z"
    },
    "papermill": {
     "duration": 1.258758,
     "end_time": "2022-01-17T21:20:30.519336",
     "exception": false,
     "start_time": "2022-01-17T21:20:29.260578",
     "status": "completed"
    },
    "tags": []
   },
   "outputs": [],
   "source": [
    "# Data Import: Step 1 (Import)\n",
    "\n",
    "import numpy as np\n",
    "import pandas as pd\n",
    "import matplotlib.pyplot as plt\n",
    "import seaborn as sns\n",
    "from sklearn import linear_model\n"
   ]
  },
  {
   "cell_type": "code",
   "execution_count": 50,
   "id": "9a321ccb",
   "metadata": {
    "execution": {
     "iopub.execute_input": "2022-01-17T21:20:30.598289Z",
     "iopub.status.busy": "2022-01-17T21:20:30.597607Z",
     "iopub.status.idle": "2022-01-17T21:20:30.644107Z",
     "shell.execute_reply": "2022-01-17T21:20:30.644680Z",
     "shell.execute_reply.started": "2022-01-17T21:01:27.256112Z"
    },
    "papermill": {
     "duration": 0.087143,
     "end_time": "2022-01-17T21:20:30.644862",
     "exception": false,
     "start_time": "2022-01-17T21:20:30.557719",
     "status": "completed"
    },
    "tags": []
   },
   "outputs": [],
   "source": [
    "# Data Import: Step 2 (Read)\n",
    "\n",
    "\n",
    "# Toggle whether accessing it from Kaggle or local computer\n",
    "isKaggleAccess = False\n",
    "\n",
    "if isKaggleAccess:\n",
    "    # Get training data from Kaggle\n",
    "    train_data = pd.read_csv('../input/housesmalldata/houseSmallData.csv')\n",
    "\n",
    "    # Get testing data from Kaggle \n",
    "    test_data = pd.read_csv('../input/jtest/jtest.csv')\n",
    "else: \n",
    "    # Get training data from computer\n",
    "    train_data = pd.read_csv('./source/houseSmallData.csv')\n",
    "\n",
    "    # Get testing data from computer \n",
    "    test_data = pd.read_csv('./source/jtest.csv')\n"
   ]
  },
  {
   "cell_type": "code",
   "execution_count": 51,
   "id": "04be92ba",
   "metadata": {
    "execution": {
     "iopub.execute_input": "2022-01-17T21:20:30.725577Z",
     "iopub.status.busy": "2022-01-17T21:20:30.724628Z",
     "iopub.status.idle": "2022-01-17T21:20:30.731953Z",
     "shell.execute_reply": "2022-01-17T21:20:30.732578Z",
     "shell.execute_reply.started": "2022-01-17T21:01:27.301924Z"
    },
    "papermill": {
     "duration": 0.049189,
     "end_time": "2022-01-17T21:20:30.732760",
     "exception": false,
     "start_time": "2022-01-17T21:20:30.683571",
     "status": "completed"
    },
    "tags": []
   },
   "outputs": [],
   "source": [
    "# Data Import: Step 3 (Helper Functions)\n",
    "\n",
    "\n",
    "# Track columns being used\n",
    "train_col_count = None\n",
    "test_col_count = None\n",
    "\n",
    "# Track if the number of training columns in use has changed\n",
    "def trackTrainColCount(data_to_count):\n",
    "    global train_col_count\n",
    "    # First time columns are being counted\n",
    "    if train_col_count == None:\n",
    "        print(f'There are {len(data_to_count.columns)} columns in use.')\n",
    "    # Column number did not change\n",
    "    elif len(data_to_count.columns) == train_col_count:\n",
    "        print(f'There is still {train_col_count} columns in use.')\n",
    "    # Column number changed\n",
    "    else: \n",
    "        print(f'There are now {len(data_to_count.columns)} columns in use.')\n",
    "    # Update column counter\n",
    "    train_col_count = len(data_to_count.columns)\n",
    "    \n",
    "\n",
    "# Track if the number of testing columns in use has changed\n",
    "def trackTestColCount(data_to_count):\n",
    "    global test_col_count\n",
    "    # First time columns are being counted\n",
    "    if test_col_count == None:\n",
    "        print(f'There are {len(data_to_count.columns)} columns in use.')\n",
    "    # Column number did not change\n",
    "    elif len(data_to_count.columns) == test_col_count:\n",
    "        print(f'There is still {test_col_count} columns in use.')\n",
    "    # Column number changed\n",
    "    else: \n",
    "        print(f'There are now {len(data_to_count.columns)} columns in use.')\n",
    "    # Update column counter\n",
    "    test_col_count = len(data_to_count.columns)"
   ]
  },
  {
   "cell_type": "markdown",
   "id": "482fe822",
   "metadata": {
    "papermill": {
     "duration": 0.037657,
     "end_time": "2022-01-17T21:20:30.807909",
     "exception": false,
     "start_time": "2022-01-17T21:20:30.770252",
     "status": "completed"
    },
    "tags": []
   },
   "source": [
    "[Back to top](#Index)\n",
    "\n",
    "### 2.2 Data Exploration\n",
    "\n",
    "##### Steps:\n",
    "\n",
    "1. **Show Column & Row Count:** Show the initial number of columns & rows before data cleaning.\n",
    "\n",
    "2. **Show Head:** Display the first 5 rows of the training data.\n",
    "\n",
    "3. **Show NAN Percentage:** Show the percent of missing values in each column of the training data.\n",
    "     - Based on research, there is no number cut off threshold for nans, but is instead handled on a case by case basis.\n",
    "     - Columns with high nans will not be removed now, but will be monitored if they pass through the data cleansing phase.\n",
    "        \n",
    "        \n",
    "4. **Toggle Ordinal Data Inclusion:** Set whether the dataset will include ordinal data.\n",
    "\n",
    "5. **Identify Ordinal Data in Training Data:** Columns with categorical data that is ordinal are split into separate numerical columns using one-hot-encoding and included in the training and test datasets.\n",
    "    - **Show Column Count:** Columns are counted again to show the effects of the conversion.\n",
    "    - **Show Head:** The first 5 rows of the training data are displayed to show the inclusion of the ordinal data.\n",
    "\n",
    "\n",
    "6. **Identify Ordinal Data in Testing Data:** Columns with categorical data that is ordinal are split into separate numerical columns using one-hot-encoding and included in the training and test datasets.\n",
    "    - **Show Column Count:** Columns are counted again to show the effects of the conversion.\n",
    "    - **Show Head:** The first 5 rows of the testing data are displayed to show the inclusion of the ordinal data.\n",
    "    \n",
    "    \n",
    "7. **'SalePrice' Distribution:** Sales price had less of a skew with a log normal distribution.\n",
    "\n",
    "8. **Test Assumed Relationships:** Show graphs for relationships between columns that are assumed to affect the sales price.\n",
    "    - Seaborn Swarmplots were used to add jitter and prevent overlapping values.\n",
    "    - Year built, full bath, and bedrooms (above grade) have a positive correlation with the sale price."
   ]
  },
  {
   "cell_type": "code",
   "execution_count": 52,
   "id": "b8b2acfc",
   "metadata": {
    "execution": {
     "iopub.execute_input": "2022-01-17T21:20:30.885766Z",
     "iopub.status.busy": "2022-01-17T21:20:30.885132Z",
     "iopub.status.idle": "2022-01-17T21:20:30.890103Z",
     "shell.execute_reply": "2022-01-17T21:20:30.890623Z",
     "shell.execute_reply.started": "2022-01-17T21:01:27.312800Z"
    },
    "papermill": {
     "duration": 0.045288,
     "end_time": "2022-01-17T21:20:30.890804",
     "exception": false,
     "start_time": "2022-01-17T21:20:30.845516",
     "status": "completed"
    },
    "tags": []
   },
   "outputs": [
    {
     "name": "stdout",
     "output_type": "stream",
     "text": [
      "There are 82 columns in use.\n",
      "Also, there are 100 rows.\n"
     ]
    }
   ],
   "source": [
    "# Data Exploration: Step 1 (Show Column & Row Count)\n",
    "\n",
    "\n",
    "# Show number of rows [properties] and columns [property attributes]\n",
    "trackTrainColCount(train_data)\n",
    "print(f'Also, there are {train_data.shape[0]} rows.')"
   ]
  },
  {
   "cell_type": "code",
   "execution_count": 53,
   "id": "2ca11644",
   "metadata": {
    "execution": {
     "iopub.execute_input": "2022-01-17T21:20:30.970433Z",
     "iopub.status.busy": "2022-01-17T21:20:30.969786Z",
     "iopub.status.idle": "2022-01-17T21:20:31.003885Z",
     "shell.execute_reply": "2022-01-17T21:20:31.003245Z",
     "shell.execute_reply.started": "2022-01-17T21:01:27.332630Z"
    },
    "papermill": {
     "duration": 0.074415,
     "end_time": "2022-01-17T21:20:31.004037",
     "exception": false,
     "start_time": "2022-01-17T21:20:30.929622",
     "status": "completed"
    },
    "tags": []
   },
   "outputs": [
    {
     "data": {
      "text/html": [
       "<div>\n",
       "<style scoped>\n",
       "    .dataframe tbody tr th:only-of-type {\n",
       "        vertical-align: middle;\n",
       "    }\n",
       "\n",
       "    .dataframe tbody tr th {\n",
       "        vertical-align: top;\n",
       "    }\n",
       "\n",
       "    .dataframe thead th {\n",
       "        text-align: right;\n",
       "    }\n",
       "</style>\n",
       "<table border=\"1\" class=\"dataframe\">\n",
       "  <thead>\n",
       "    <tr style=\"text-align: right;\">\n",
       "      <th></th>\n",
       "      <th>Unnamed: 0</th>\n",
       "      <th>Id</th>\n",
       "      <th>MSSubClass</th>\n",
       "      <th>MSZoning</th>\n",
       "      <th>LotFrontage</th>\n",
       "      <th>LotArea</th>\n",
       "      <th>Street</th>\n",
       "      <th>Alley</th>\n",
       "      <th>LotShape</th>\n",
       "      <th>LandContour</th>\n",
       "      <th>...</th>\n",
       "      <th>PoolArea</th>\n",
       "      <th>PoolQC</th>\n",
       "      <th>Fence</th>\n",
       "      <th>MiscFeature</th>\n",
       "      <th>MiscVal</th>\n",
       "      <th>MoSold</th>\n",
       "      <th>YrSold</th>\n",
       "      <th>SaleType</th>\n",
       "      <th>SaleCondition</th>\n",
       "      <th>SalePrice</th>\n",
       "    </tr>\n",
       "  </thead>\n",
       "  <tbody>\n",
       "    <tr>\n",
       "      <th>0</th>\n",
       "      <td>0</td>\n",
       "      <td>1</td>\n",
       "      <td>60</td>\n",
       "      <td>RL</td>\n",
       "      <td>65.0</td>\n",
       "      <td>8450</td>\n",
       "      <td>Pave</td>\n",
       "      <td>NaN</td>\n",
       "      <td>Reg</td>\n",
       "      <td>Lvl</td>\n",
       "      <td>...</td>\n",
       "      <td>0</td>\n",
       "      <td>NaN</td>\n",
       "      <td>NaN</td>\n",
       "      <td>NaN</td>\n",
       "      <td>0</td>\n",
       "      <td>2</td>\n",
       "      <td>2008</td>\n",
       "      <td>WD</td>\n",
       "      <td>Normal</td>\n",
       "      <td>208500</td>\n",
       "    </tr>\n",
       "    <tr>\n",
       "      <th>1</th>\n",
       "      <td>1</td>\n",
       "      <td>2</td>\n",
       "      <td>20</td>\n",
       "      <td>RL</td>\n",
       "      <td>80.0</td>\n",
       "      <td>9600</td>\n",
       "      <td>Pave</td>\n",
       "      <td>NaN</td>\n",
       "      <td>Reg</td>\n",
       "      <td>Lvl</td>\n",
       "      <td>...</td>\n",
       "      <td>0</td>\n",
       "      <td>NaN</td>\n",
       "      <td>NaN</td>\n",
       "      <td>NaN</td>\n",
       "      <td>0</td>\n",
       "      <td>5</td>\n",
       "      <td>2007</td>\n",
       "      <td>WD</td>\n",
       "      <td>Normal</td>\n",
       "      <td>181500</td>\n",
       "    </tr>\n",
       "    <tr>\n",
       "      <th>2</th>\n",
       "      <td>2</td>\n",
       "      <td>3</td>\n",
       "      <td>60</td>\n",
       "      <td>RL</td>\n",
       "      <td>68.0</td>\n",
       "      <td>11250</td>\n",
       "      <td>Pave</td>\n",
       "      <td>NaN</td>\n",
       "      <td>IR1</td>\n",
       "      <td>Lvl</td>\n",
       "      <td>...</td>\n",
       "      <td>0</td>\n",
       "      <td>NaN</td>\n",
       "      <td>NaN</td>\n",
       "      <td>NaN</td>\n",
       "      <td>0</td>\n",
       "      <td>9</td>\n",
       "      <td>2008</td>\n",
       "      <td>WD</td>\n",
       "      <td>Normal</td>\n",
       "      <td>223500</td>\n",
       "    </tr>\n",
       "    <tr>\n",
       "      <th>3</th>\n",
       "      <td>3</td>\n",
       "      <td>4</td>\n",
       "      <td>70</td>\n",
       "      <td>RL</td>\n",
       "      <td>60.0</td>\n",
       "      <td>9550</td>\n",
       "      <td>Pave</td>\n",
       "      <td>NaN</td>\n",
       "      <td>IR1</td>\n",
       "      <td>Lvl</td>\n",
       "      <td>...</td>\n",
       "      <td>0</td>\n",
       "      <td>NaN</td>\n",
       "      <td>NaN</td>\n",
       "      <td>NaN</td>\n",
       "      <td>0</td>\n",
       "      <td>2</td>\n",
       "      <td>2006</td>\n",
       "      <td>WD</td>\n",
       "      <td>Abnorml</td>\n",
       "      <td>140000</td>\n",
       "    </tr>\n",
       "    <tr>\n",
       "      <th>4</th>\n",
       "      <td>4</td>\n",
       "      <td>5</td>\n",
       "      <td>60</td>\n",
       "      <td>RL</td>\n",
       "      <td>84.0</td>\n",
       "      <td>14260</td>\n",
       "      <td>Pave</td>\n",
       "      <td>NaN</td>\n",
       "      <td>IR1</td>\n",
       "      <td>Lvl</td>\n",
       "      <td>...</td>\n",
       "      <td>0</td>\n",
       "      <td>NaN</td>\n",
       "      <td>NaN</td>\n",
       "      <td>NaN</td>\n",
       "      <td>0</td>\n",
       "      <td>12</td>\n",
       "      <td>2008</td>\n",
       "      <td>WD</td>\n",
       "      <td>Normal</td>\n",
       "      <td>250000</td>\n",
       "    </tr>\n",
       "  </tbody>\n",
       "</table>\n",
       "<p>5 rows × 82 columns</p>\n",
       "</div>"
      ],
      "text/plain": [
       "   Unnamed: 0  Id  MSSubClass MSZoning  LotFrontage  LotArea Street Alley  \\\n",
       "0           0   1          60       RL         65.0     8450   Pave   NaN   \n",
       "1           1   2          20       RL         80.0     9600   Pave   NaN   \n",
       "2           2   3          60       RL         68.0    11250   Pave   NaN   \n",
       "3           3   4          70       RL         60.0     9550   Pave   NaN   \n",
       "4           4   5          60       RL         84.0    14260   Pave   NaN   \n",
       "\n",
       "  LotShape LandContour  ... PoolArea PoolQC Fence MiscFeature MiscVal MoSold  \\\n",
       "0      Reg         Lvl  ...        0    NaN   NaN         NaN       0      2   \n",
       "1      Reg         Lvl  ...        0    NaN   NaN         NaN       0      5   \n",
       "2      IR1         Lvl  ...        0    NaN   NaN         NaN       0      9   \n",
       "3      IR1         Lvl  ...        0    NaN   NaN         NaN       0      2   \n",
       "4      IR1         Lvl  ...        0    NaN   NaN         NaN       0     12   \n",
       "\n",
       "  YrSold SaleType  SaleCondition  SalePrice  \n",
       "0   2008       WD         Normal     208500  \n",
       "1   2007       WD         Normal     181500  \n",
       "2   2008       WD         Normal     223500  \n",
       "3   2006       WD        Abnorml     140000  \n",
       "4   2008       WD         Normal     250000  \n",
       "\n",
       "[5 rows x 82 columns]"
      ]
     },
     "execution_count": 53,
     "metadata": {},
     "output_type": "execute_result"
    }
   ],
   "source": [
    "# Data Exploration: Step 2 (Show Head)\n",
    "\n",
    "\n",
    "# Show first 5 records\n",
    "train_data.head()"
   ]
  },
  {
   "cell_type": "code",
   "execution_count": 54,
   "id": "0cb0b47e",
   "metadata": {
    "execution": {
     "iopub.execute_input": "2022-01-17T21:20:31.090157Z",
     "iopub.status.busy": "2022-01-17T21:20:31.089512Z",
     "iopub.status.idle": "2022-01-17T21:20:31.096537Z",
     "shell.execute_reply": "2022-01-17T21:20:31.097322Z",
     "shell.execute_reply.started": "2022-01-17T21:01:27.372633Z"
    },
    "papermill": {
     "duration": 0.054499,
     "end_time": "2022-01-17T21:20:31.097554",
     "exception": false,
     "start_time": "2022-01-17T21:20:31.043055",
     "status": "completed"
    },
    "tags": []
   },
   "outputs": [
    {
     "name": "stdout",
     "output_type": "stream",
     "text": [
      "Percentage of Missing Values\n",
      "\n",
      "PoolQC         100.0\n",
      "Alley           94.0\n",
      "MiscFeature     91.0\n",
      "Fence           77.0\n",
      "FireplaceQu     54.0\n",
      "               ...  \n",
      "MasVnrType       0.0\n",
      "Exterior2nd      0.0\n",
      "Exterior1st      0.0\n",
      "RoofMatl         0.0\n",
      "SalePrice        0.0\n",
      "Length: 82, dtype: float64\n"
     ]
    }
   ],
   "source": [
    "# Data Exploration: Step 3 (Show NAN Percentage)\n",
    "\n",
    "\n",
    "# Determine the percentage of nans in the columns\n",
    "nan_percentages = train_data.isna().mean().sort_values(ascending=False).round(4) * 100\n",
    "\n",
    "print(f'Percentage of Missing Values\\n\\n{nan_percentages}')"
   ]
  },
  {
   "cell_type": "code",
   "execution_count": 55,
   "id": "a89183b2",
   "metadata": {
    "execution": {
     "iopub.execute_input": "2022-01-17T21:20:31.181555Z",
     "iopub.status.busy": "2022-01-17T21:20:31.180566Z",
     "iopub.status.idle": "2022-01-17T21:20:31.184619Z",
     "shell.execute_reply": "2022-01-17T21:20:31.185157Z",
     "shell.execute_reply.started": "2022-01-17T21:01:27.389102Z"
    },
    "papermill": {
     "duration": 0.04655,
     "end_time": "2022-01-17T21:20:31.185339",
     "exception": false,
     "start_time": "2022-01-17T21:20:31.138789",
     "status": "completed"
    },
    "tags": []
   },
   "outputs": [],
   "source": [
    "# Data Exploration: Step 4 (Toggle Ordinal Data)\n",
    "\n",
    "\n",
    "# Toggle whether to include categorical data that is ordinal\n",
    "hasOrdinalData = False"
   ]
  },
  {
   "cell_type": "code",
   "execution_count": 56,
   "id": "3640ba29",
   "metadata": {
    "execution": {
     "iopub.execute_input": "2022-01-17T21:20:31.266546Z",
     "iopub.status.busy": "2022-01-17T21:20:31.265557Z",
     "iopub.status.idle": "2022-01-17T21:20:31.316000Z",
     "shell.execute_reply": "2022-01-17T21:20:31.316518Z",
     "shell.execute_reply.started": "2022-01-17T21:01:27.394251Z"
    },
    "papermill": {
     "duration": 0.092743,
     "end_time": "2022-01-17T21:20:31.316704",
     "exception": false,
     "start_time": "2022-01-17T21:20:31.223961",
     "status": "completed"
    },
    "tags": []
   },
   "outputs": [
    {
     "name": "stdout",
     "output_type": "stream",
     "text": [
      "There is still 82 columns in use.\n"
     ]
    },
    {
     "data": {
      "text/html": [
       "<div>\n",
       "<style scoped>\n",
       "    .dataframe tbody tr th:only-of-type {\n",
       "        vertical-align: middle;\n",
       "    }\n",
       "\n",
       "    .dataframe tbody tr th {\n",
       "        vertical-align: top;\n",
       "    }\n",
       "\n",
       "    .dataframe thead th {\n",
       "        text-align: right;\n",
       "    }\n",
       "</style>\n",
       "<table border=\"1\" class=\"dataframe\">\n",
       "  <thead>\n",
       "    <tr style=\"text-align: right;\">\n",
       "      <th></th>\n",
       "      <th>Unnamed: 0</th>\n",
       "      <th>Id</th>\n",
       "      <th>MSSubClass</th>\n",
       "      <th>MSZoning</th>\n",
       "      <th>LotFrontage</th>\n",
       "      <th>LotArea</th>\n",
       "      <th>Street</th>\n",
       "      <th>Alley</th>\n",
       "      <th>LotShape</th>\n",
       "      <th>LandContour</th>\n",
       "      <th>...</th>\n",
       "      <th>PoolArea</th>\n",
       "      <th>PoolQC</th>\n",
       "      <th>Fence</th>\n",
       "      <th>MiscFeature</th>\n",
       "      <th>MiscVal</th>\n",
       "      <th>MoSold</th>\n",
       "      <th>YrSold</th>\n",
       "      <th>SaleType</th>\n",
       "      <th>SaleCondition</th>\n",
       "      <th>SalePrice</th>\n",
       "    </tr>\n",
       "  </thead>\n",
       "  <tbody>\n",
       "    <tr>\n",
       "      <th>0</th>\n",
       "      <td>0</td>\n",
       "      <td>1</td>\n",
       "      <td>60</td>\n",
       "      <td>RL</td>\n",
       "      <td>65.0</td>\n",
       "      <td>8450</td>\n",
       "      <td>Pave</td>\n",
       "      <td>NaN</td>\n",
       "      <td>Reg</td>\n",
       "      <td>Lvl</td>\n",
       "      <td>...</td>\n",
       "      <td>0</td>\n",
       "      <td>NaN</td>\n",
       "      <td>NaN</td>\n",
       "      <td>NaN</td>\n",
       "      <td>0</td>\n",
       "      <td>2</td>\n",
       "      <td>2008</td>\n",
       "      <td>WD</td>\n",
       "      <td>Normal</td>\n",
       "      <td>208500</td>\n",
       "    </tr>\n",
       "    <tr>\n",
       "      <th>1</th>\n",
       "      <td>1</td>\n",
       "      <td>2</td>\n",
       "      <td>20</td>\n",
       "      <td>RL</td>\n",
       "      <td>80.0</td>\n",
       "      <td>9600</td>\n",
       "      <td>Pave</td>\n",
       "      <td>NaN</td>\n",
       "      <td>Reg</td>\n",
       "      <td>Lvl</td>\n",
       "      <td>...</td>\n",
       "      <td>0</td>\n",
       "      <td>NaN</td>\n",
       "      <td>NaN</td>\n",
       "      <td>NaN</td>\n",
       "      <td>0</td>\n",
       "      <td>5</td>\n",
       "      <td>2007</td>\n",
       "      <td>WD</td>\n",
       "      <td>Normal</td>\n",
       "      <td>181500</td>\n",
       "    </tr>\n",
       "    <tr>\n",
       "      <th>2</th>\n",
       "      <td>2</td>\n",
       "      <td>3</td>\n",
       "      <td>60</td>\n",
       "      <td>RL</td>\n",
       "      <td>68.0</td>\n",
       "      <td>11250</td>\n",
       "      <td>Pave</td>\n",
       "      <td>NaN</td>\n",
       "      <td>IR1</td>\n",
       "      <td>Lvl</td>\n",
       "      <td>...</td>\n",
       "      <td>0</td>\n",
       "      <td>NaN</td>\n",
       "      <td>NaN</td>\n",
       "      <td>NaN</td>\n",
       "      <td>0</td>\n",
       "      <td>9</td>\n",
       "      <td>2008</td>\n",
       "      <td>WD</td>\n",
       "      <td>Normal</td>\n",
       "      <td>223500</td>\n",
       "    </tr>\n",
       "    <tr>\n",
       "      <th>3</th>\n",
       "      <td>3</td>\n",
       "      <td>4</td>\n",
       "      <td>70</td>\n",
       "      <td>RL</td>\n",
       "      <td>60.0</td>\n",
       "      <td>9550</td>\n",
       "      <td>Pave</td>\n",
       "      <td>NaN</td>\n",
       "      <td>IR1</td>\n",
       "      <td>Lvl</td>\n",
       "      <td>...</td>\n",
       "      <td>0</td>\n",
       "      <td>NaN</td>\n",
       "      <td>NaN</td>\n",
       "      <td>NaN</td>\n",
       "      <td>0</td>\n",
       "      <td>2</td>\n",
       "      <td>2006</td>\n",
       "      <td>WD</td>\n",
       "      <td>Abnorml</td>\n",
       "      <td>140000</td>\n",
       "    </tr>\n",
       "    <tr>\n",
       "      <th>4</th>\n",
       "      <td>4</td>\n",
       "      <td>5</td>\n",
       "      <td>60</td>\n",
       "      <td>RL</td>\n",
       "      <td>84.0</td>\n",
       "      <td>14260</td>\n",
       "      <td>Pave</td>\n",
       "      <td>NaN</td>\n",
       "      <td>IR1</td>\n",
       "      <td>Lvl</td>\n",
       "      <td>...</td>\n",
       "      <td>0</td>\n",
       "      <td>NaN</td>\n",
       "      <td>NaN</td>\n",
       "      <td>NaN</td>\n",
       "      <td>0</td>\n",
       "      <td>12</td>\n",
       "      <td>2008</td>\n",
       "      <td>WD</td>\n",
       "      <td>Normal</td>\n",
       "      <td>250000</td>\n",
       "    </tr>\n",
       "  </tbody>\n",
       "</table>\n",
       "<p>5 rows × 82 columns</p>\n",
       "</div>"
      ],
      "text/plain": [
       "   Unnamed: 0  Id  MSSubClass MSZoning  LotFrontage  LotArea Street Alley  \\\n",
       "0           0   1          60       RL         65.0     8450   Pave   NaN   \n",
       "1           1   2          20       RL         80.0     9600   Pave   NaN   \n",
       "2           2   3          60       RL         68.0    11250   Pave   NaN   \n",
       "3           3   4          70       RL         60.0     9550   Pave   NaN   \n",
       "4           4   5          60       RL         84.0    14260   Pave   NaN   \n",
       "\n",
       "  LotShape LandContour  ... PoolArea PoolQC Fence MiscFeature MiscVal MoSold  \\\n",
       "0      Reg         Lvl  ...        0    NaN   NaN         NaN       0      2   \n",
       "1      Reg         Lvl  ...        0    NaN   NaN         NaN       0      5   \n",
       "2      IR1         Lvl  ...        0    NaN   NaN         NaN       0      9   \n",
       "3      IR1         Lvl  ...        0    NaN   NaN         NaN       0      2   \n",
       "4      IR1         Lvl  ...        0    NaN   NaN         NaN       0     12   \n",
       "\n",
       "  YrSold SaleType  SaleCondition  SalePrice  \n",
       "0   2008       WD         Normal     208500  \n",
       "1   2007       WD         Normal     181500  \n",
       "2   2008       WD         Normal     223500  \n",
       "3   2006       WD        Abnorml     140000  \n",
       "4   2008       WD         Normal     250000  \n",
       "\n",
       "[5 rows x 82 columns]"
      ]
     },
     "execution_count": 56,
     "metadata": {},
     "output_type": "execute_result"
    }
   ],
   "source": [
    "# Data Exploration: Step 5 (Identify Ordinal Data in Training Data)\n",
    "\n",
    "\n",
    "# Evaluate using categorical data\n",
    "\n",
    "if hasOrdinalData: \n",
    "    # Categorical data considered ordinal\n",
    "    ordinals = ['OverallQual', 'OverallCond', 'ExterQual', 'ExterCond', 'BsmtQual','BsmtCond','BsmtFinType1','BsmtFinType2', \n",
    "                'HeatingQC', 'KitchenQual','FireplaceQu', 'GarageFinish', 'GarageQual', 'GarageCond', 'PoolQC', 'Fence']\n",
    "\n",
    "    # Create dummies for ordinal data and add them to the dataset\n",
    "    train_data = pd.get_dummies(train_data, columns = ordinals)\n",
    "\n",
    "# Track columns being used\n",
    "trackTrainColCount(train_data)\n",
    "\n",
    "train_data.head()"
   ]
  },
  {
   "cell_type": "code",
   "execution_count": 57,
   "id": "7f66c499",
   "metadata": {
    "execution": {
     "iopub.execute_input": "2022-01-17T21:20:31.404347Z",
     "iopub.status.busy": "2022-01-17T21:20:31.399285Z",
     "iopub.status.idle": "2022-01-17T21:20:31.440418Z",
     "shell.execute_reply": "2022-01-17T21:20:31.440942Z",
     "shell.execute_reply.started": "2022-01-17T21:01:27.453653Z"
    },
    "papermill": {
     "duration": 0.084932,
     "end_time": "2022-01-17T21:20:31.441122",
     "exception": false,
     "start_time": "2022-01-17T21:20:31.356190",
     "status": "completed"
    },
    "tags": []
   },
   "outputs": [
    {
     "name": "stdout",
     "output_type": "stream",
     "text": [
      "There are 82 columns in use.\n"
     ]
    },
    {
     "data": {
      "text/html": [
       "<div>\n",
       "<style scoped>\n",
       "    .dataframe tbody tr th:only-of-type {\n",
       "        vertical-align: middle;\n",
       "    }\n",
       "\n",
       "    .dataframe tbody tr th {\n",
       "        vertical-align: top;\n",
       "    }\n",
       "\n",
       "    .dataframe thead th {\n",
       "        text-align: right;\n",
       "    }\n",
       "</style>\n",
       "<table border=\"1\" class=\"dataframe\">\n",
       "  <thead>\n",
       "    <tr style=\"text-align: right;\">\n",
       "      <th></th>\n",
       "      <th>Unnamed: 0</th>\n",
       "      <th>Id</th>\n",
       "      <th>MSSubClass</th>\n",
       "      <th>MSZoning</th>\n",
       "      <th>LotFrontage</th>\n",
       "      <th>LotArea</th>\n",
       "      <th>Street</th>\n",
       "      <th>Alley</th>\n",
       "      <th>LotShape</th>\n",
       "      <th>LandContour</th>\n",
       "      <th>...</th>\n",
       "      <th>PoolArea</th>\n",
       "      <th>PoolQC</th>\n",
       "      <th>Fence</th>\n",
       "      <th>MiscFeature</th>\n",
       "      <th>MiscVal</th>\n",
       "      <th>MoSold</th>\n",
       "      <th>YrSold</th>\n",
       "      <th>SaleType</th>\n",
       "      <th>SaleCondition</th>\n",
       "      <th>SalePrice</th>\n",
       "    </tr>\n",
       "  </thead>\n",
       "  <tbody>\n",
       "    <tr>\n",
       "      <th>0</th>\n",
       "      <td>100</td>\n",
       "      <td>101</td>\n",
       "      <td>20</td>\n",
       "      <td>RL</td>\n",
       "      <td>NaN</td>\n",
       "      <td>10603</td>\n",
       "      <td>Pave</td>\n",
       "      <td>NaN</td>\n",
       "      <td>IR1</td>\n",
       "      <td>Lvl</td>\n",
       "      <td>...</td>\n",
       "      <td>0</td>\n",
       "      <td>NaN</td>\n",
       "      <td>NaN</td>\n",
       "      <td>NaN</td>\n",
       "      <td>0</td>\n",
       "      <td>2</td>\n",
       "      <td>2010</td>\n",
       "      <td>WD</td>\n",
       "      <td>Normal</td>\n",
       "      <td>205000</td>\n",
       "    </tr>\n",
       "    <tr>\n",
       "      <th>1</th>\n",
       "      <td>101</td>\n",
       "      <td>102</td>\n",
       "      <td>60</td>\n",
       "      <td>RL</td>\n",
       "      <td>77.0</td>\n",
       "      <td>9206</td>\n",
       "      <td>Pave</td>\n",
       "      <td>NaN</td>\n",
       "      <td>Reg</td>\n",
       "      <td>Lvl</td>\n",
       "      <td>...</td>\n",
       "      <td>0</td>\n",
       "      <td>NaN</td>\n",
       "      <td>NaN</td>\n",
       "      <td>NaN</td>\n",
       "      <td>0</td>\n",
       "      <td>6</td>\n",
       "      <td>2010</td>\n",
       "      <td>WD</td>\n",
       "      <td>Normal</td>\n",
       "      <td>178000</td>\n",
       "    </tr>\n",
       "    <tr>\n",
       "      <th>2</th>\n",
       "      <td>102</td>\n",
       "      <td>103</td>\n",
       "      <td>90</td>\n",
       "      <td>RL</td>\n",
       "      <td>64.0</td>\n",
       "      <td>7018</td>\n",
       "      <td>Pave</td>\n",
       "      <td>NaN</td>\n",
       "      <td>Reg</td>\n",
       "      <td>Bnk</td>\n",
       "      <td>...</td>\n",
       "      <td>0</td>\n",
       "      <td>NaN</td>\n",
       "      <td>NaN</td>\n",
       "      <td>NaN</td>\n",
       "      <td>0</td>\n",
       "      <td>6</td>\n",
       "      <td>2009</td>\n",
       "      <td>WD</td>\n",
       "      <td>Alloca</td>\n",
       "      <td>118964</td>\n",
       "    </tr>\n",
       "    <tr>\n",
       "      <th>3</th>\n",
       "      <td>103</td>\n",
       "      <td>104</td>\n",
       "      <td>20</td>\n",
       "      <td>RL</td>\n",
       "      <td>94.0</td>\n",
       "      <td>10402</td>\n",
       "      <td>Pave</td>\n",
       "      <td>NaN</td>\n",
       "      <td>IR1</td>\n",
       "      <td>Lvl</td>\n",
       "      <td>...</td>\n",
       "      <td>0</td>\n",
       "      <td>NaN</td>\n",
       "      <td>NaN</td>\n",
       "      <td>NaN</td>\n",
       "      <td>0</td>\n",
       "      <td>5</td>\n",
       "      <td>2010</td>\n",
       "      <td>WD</td>\n",
       "      <td>Normal</td>\n",
       "      <td>198900</td>\n",
       "    </tr>\n",
       "    <tr>\n",
       "      <th>4</th>\n",
       "      <td>104</td>\n",
       "      <td>105</td>\n",
       "      <td>50</td>\n",
       "      <td>RM</td>\n",
       "      <td>NaN</td>\n",
       "      <td>7758</td>\n",
       "      <td>Pave</td>\n",
       "      <td>NaN</td>\n",
       "      <td>Reg</td>\n",
       "      <td>Lvl</td>\n",
       "      <td>...</td>\n",
       "      <td>0</td>\n",
       "      <td>NaN</td>\n",
       "      <td>NaN</td>\n",
       "      <td>NaN</td>\n",
       "      <td>0</td>\n",
       "      <td>6</td>\n",
       "      <td>2007</td>\n",
       "      <td>WD</td>\n",
       "      <td>Normal</td>\n",
       "      <td>169500</td>\n",
       "    </tr>\n",
       "  </tbody>\n",
       "</table>\n",
       "<p>5 rows × 82 columns</p>\n",
       "</div>"
      ],
      "text/plain": [
       "   Unnamed: 0   Id  MSSubClass MSZoning  LotFrontage  LotArea Street Alley  \\\n",
       "0         100  101          20       RL          NaN    10603   Pave   NaN   \n",
       "1         101  102          60       RL         77.0     9206   Pave   NaN   \n",
       "2         102  103          90       RL         64.0     7018   Pave   NaN   \n",
       "3         103  104          20       RL         94.0    10402   Pave   NaN   \n",
       "4         104  105          50       RM          NaN     7758   Pave   NaN   \n",
       "\n",
       "  LotShape LandContour  ... PoolArea PoolQC Fence MiscFeature MiscVal MoSold  \\\n",
       "0      IR1         Lvl  ...        0    NaN   NaN         NaN       0      2   \n",
       "1      Reg         Lvl  ...        0    NaN   NaN         NaN       0      6   \n",
       "2      Reg         Bnk  ...        0    NaN   NaN         NaN       0      6   \n",
       "3      IR1         Lvl  ...        0    NaN   NaN         NaN       0      5   \n",
       "4      Reg         Lvl  ...        0    NaN   NaN         NaN       0      6   \n",
       "\n",
       "  YrSold SaleType  SaleCondition  SalePrice  \n",
       "0   2010       WD         Normal     205000  \n",
       "1   2010       WD         Normal     178000  \n",
       "2   2009       WD         Alloca     118964  \n",
       "3   2010       WD         Normal     198900  \n",
       "4   2007       WD         Normal     169500  \n",
       "\n",
       "[5 rows x 82 columns]"
      ]
     },
     "execution_count": 57,
     "metadata": {},
     "output_type": "execute_result"
    }
   ],
   "source": [
    "# Data Exploration: Step 6 (Identify Ordinal Data in Testing Data)\n",
    "\n",
    "\n",
    "if hasOrdinalData:\n",
    "    # Create dummies for ordinal data and add them to the testing dataset\n",
    "    test_data = pd.get_dummies(test_data, columns = ordinals)\n",
    "\n",
    "# Track columns being used\n",
    "trackTestColCount(test_data)\n",
    "\n",
    "test_data.head()"
   ]
  },
  {
   "cell_type": "code",
   "execution_count": 58,
   "id": "6a8926b0",
   "metadata": {
    "execution": {
     "iopub.execute_input": "2022-01-17T21:20:31.527869Z",
     "iopub.status.busy": "2022-01-17T21:20:31.526849Z",
     "iopub.status.idle": "2022-01-17T21:20:31.969137Z",
     "shell.execute_reply": "2022-01-17T21:20:31.969694Z",
     "shell.execute_reply.started": "2022-01-17T21:01:27.504332Z"
    },
    "papermill": {
     "duration": 0.487307,
     "end_time": "2022-01-17T21:20:31.969879",
     "exception": false,
     "start_time": "2022-01-17T21:20:31.482572",
     "status": "completed"
    },
    "tags": []
   },
   "outputs": [
    {
     "data": {
      "image/png": "[encoded data removed]",
      "text/plain": [
       "<Figure size 432x288 with 1 Axes>"
      ]
     },
     "metadata": {
      "needs_background": "light"
     },
     "output_type": "display_data"
    },
    {
     "name": "stdout",
     "output_type": "stream",
     "text": [
      "\n",
      "\n"
     ]
    },
    {
     "data": {
      "image/png": "[encoded data removed]",
      "text/plain": [
       "<Figure size 432x288 with 1 Axes>"
      ]
     },
     "metadata": {
      "needs_background": "light"
     },
     "output_type": "display_data"
    }
   ],
   "source": [
    "# Data Exploration: Step 7 ('SalePrice' Distribution)\n",
    "\n",
    "\n",
    "# Identify the distribution of the 'SalePrice'\n",
    "sale_price = train_data['SalePrice']\n",
    "plt.hist(sale_price)\n",
    "plt.title(f'\"SalePrice\" Distribution\\nSkew: {sale_price.skew().round(4)} (rounded)')\n",
    "plt.xticks(rotation=90)\n",
    "plt.show()\n",
    "\n",
    "print('\\n')\n",
    "\n",
    "log_sale_price = np.log(sale_price)\n",
    "plt.hist(log_sale_price)\n",
    "plt.title(f'Log Normal Distribution \"SalePrice\"\\nSkew: {log_sale_price.skew().round(4)} (rounded)')\n",
    "plt.show()\n",
    "\n",
    "# The distribution of the \"SalePrice\" more closely resembles a log normal distribution\n",
    "target = log_sale_price"
   ]
  },
  {
   "cell_type": "code",
   "execution_count": 59,
   "id": "0043a602",
   "metadata": {
    "execution": {
     "iopub.execute_input": "2022-01-17T21:20:32.088654Z",
     "iopub.status.busy": "2022-01-17T21:20:32.072753Z",
     "iopub.status.idle": "2022-01-17T21:20:32.734591Z",
     "shell.execute_reply": "2022-01-17T21:20:32.735058Z",
     "shell.execute_reply.started": "2022-01-17T21:01:27.955536Z"
    },
    "papermill": {
     "duration": 0.722285,
     "end_time": "2022-01-17T21:20:32.735252",
     "exception": false,
     "start_time": "2022-01-17T21:20:32.012967",
     "status": "completed"
    },
    "tags": []
   },
   "outputs": [
    {
     "data": {
      "image/png": "[encoded data removed]",
      "text/plain": [
       "<Figure size 432x288 with 1 Axes>"
      ]
     },
     "metadata": {
      "needs_background": "light"
     },
     "output_type": "display_data"
    },
    {
     "name": "stdout",
     "output_type": "stream",
     "text": [
      "\n",
      "\n",
      "\n"
     ]
    },
    {
     "data": {
      "image/png": "[encoded data removed]",
      "text/plain": [
       "<Figure size 432x288 with 1 Axes>"
      ]
     },
     "metadata": {
      "needs_background": "light"
     },
     "output_type": "display_data"
    },
    {
     "name": "stdout",
     "output_type": "stream",
     "text": [
      "\n",
      "\n",
      "\n"
     ]
    },
    {
     "data": {
      "image/png": "[encoded data removed]",
      "text/plain": [
       "<Figure size 432x288 with 1 Axes>"
      ]
     },
     "metadata": {
      "needs_background": "light"
     },
     "output_type": "display_data"
    }
   ],
   "source": [
    "# Data Exploration: Step 8 (Test Assumed Relationships)\n",
    "\n",
    "\n",
    "# YearBuilt\n",
    "plt.scatter(train_data['YearBuilt'], y=target)\n",
    "plt.title('Sales Price vs Year Built')\n",
    "plt.xlabel('Year')\n",
    "plt.ylabel('Sales Price')\n",
    "plt.show()\n",
    "\n",
    "print('\\n\\n')\n",
    "\n",
    "# Note: Used swarmplots below to add jitter and prevent overlapping values\n",
    "\n",
    "# BedroomAbvGr \n",
    "sns.swarmplot(x=train_data['BedroomAbvGr'], y=target)\n",
    "plt.title('Sales Price vs Bedrooms (Above Grade)')\n",
    "plt.xlabel('Bedrooms (Above Grade)')\n",
    "plt.ylabel('Sales Price')\n",
    "plt.show()\n",
    "\n",
    "print('\\n\\n')\n",
    "\n",
    "# FullBath\n",
    "sns.swarmplot(x=train_data['FullBath'], y=target)\n",
    "plt.title('Sales Price vs Full Baths (Above Grade)')\n",
    "plt.xlabel('Full Baths (Above Grade)')\n",
    "plt.ylabel('Sales Price')\n",
    "plt.show()\n"
   ]
  },
  {
   "cell_type": "markdown",
   "id": "e5a789f1",
   "metadata": {
    "papermill": {
     "duration": 0.045607,
     "end_time": "2022-01-17T21:20:32.827365",
     "exception": false,
     "start_time": "2022-01-17T21:20:32.781758",
     "status": "completed"
    },
    "tags": []
   },
   "source": [
    "[Back to top](#Index)\n",
    "\n",
    "### 2.3 Data Preparation\n",
    "\n",
    "##### Steps:\n",
    "\n",
    "1. **Select Only Relevant Columns:** Columns such as \"Id\" and \"Unnamed: 0\" should be removed from the dataset.\n",
    "    - **Show Column Count:** Columns are counted again to show the effects of the conversion.\n",
    "\n",
    "\n",
    "2. **Select Only Numeric Columns:** If a column is still non-numeric, it needs to be removed. All categorical data that is ordinal was already converted to a numeric format in the data preparation.\n",
    "    - **Show Column Count:** Columns are counted again to show the effects of the conversion.\n",
    "\n",
    "\n",
    "3. **Show Column Names With Nulls:** Identify which numeric columns have missing values.\n",
    "\n",
    "\n",
    "4. **Interpolate Training Data:** Try to use linear interpolation on training columns with missing values and if not drop the columns.\n",
    "    - **Show Column Count:** Columns are counted again to show the effects of the conversion.\n",
    "    \n",
    "    \n",
    "5. **Select Only Non-Zero Sum Training Columns:** Remove all training columns whose sum equals to zero.\n",
    "    - **Show Column Count:** Columns are counted again to show the effects of the conversion.\n",
    "\n",
    "\n",
    "6. **Interpolate Testing Data:** Try to use linear interpolation on testing columns with missing values and if not drop the columns.\n",
    "    - **Show Column Count:** Columns are counted again to show the effects of the conversion.\n",
    "\n",
    "\n",
    "7. **Select Only Non-Zero Sum Testing Columns:** Remove all testing columns whose sum equals to zero.\n",
    "    - **Show Column Count:** Columns are counted again to show the effects of the conversion.\n",
    "\n",
    "\n",
    "8. **Show Column Difference:** Show the shape of the training and testing datasets and list column names that are not included in the both.\n",
    "\n",
    "\n",
    "9. **Show Align Result:** Align the training and testing datasets so that they have the same columns and then show their new shape.\n",
    "    \n"
   ]
  },
  {
   "cell_type": "code",
   "execution_count": 60,
   "id": "68e8d172",
   "metadata": {
    "execution": {
     "iopub.execute_input": "2022-01-17T21:20:32.924221Z",
     "iopub.status.busy": "2022-01-17T21:20:32.923187Z",
     "iopub.status.idle": "2022-01-17T21:20:32.930936Z",
     "shell.execute_reply": "2022-01-17T21:20:32.931420Z",
     "shell.execute_reply.started": "2022-01-17T21:01:28.919870Z"
    },
    "papermill": {
     "duration": 0.058565,
     "end_time": "2022-01-17T21:20:32.931600",
     "exception": false,
     "start_time": "2022-01-17T21:20:32.873035",
     "status": "completed"
    },
    "tags": []
   },
   "outputs": [
    {
     "name": "stdout",
     "output_type": "stream",
     "text": [
      "There are now 80 columns in use.\n"
     ]
    }
   ],
   "source": [
    "# Data Preparation: Step 1 (Select Only Relevant Columns)\n",
    "\n",
    "\n",
    "# Remove non-relevant data such as id and unnamed columns\n",
    "relev_data = train_data[train_data.columns[~train_data.columns.isin(['Unnamed: 0','Id'])]]\n",
    "\n",
    "# Track columns being used\n",
    "trackTrainColCount(relev_data)"
   ]
  },
  {
   "cell_type": "code",
   "execution_count": 61,
   "id": "fc0ac90f",
   "metadata": {
    "execution": {
     "iopub.execute_input": "2022-01-17T21:20:33.027817Z",
     "iopub.status.busy": "2022-01-17T21:20:33.026826Z",
     "iopub.status.idle": "2022-01-17T21:20:33.034814Z",
     "shell.execute_reply": "2022-01-17T21:20:33.035690Z",
     "shell.execute_reply.started": "2022-01-17T21:01:28.932291Z"
    },
    "papermill": {
     "duration": 0.05819,
     "end_time": "2022-01-17T21:20:33.035924",
     "exception": false,
     "start_time": "2022-01-17T21:20:32.977734",
     "status": "completed"
    },
    "tags": []
   },
   "outputs": [
    {
     "name": "stdout",
     "output_type": "stream",
     "text": [
      "There are now 38 columns in use.\n"
     ]
    }
   ],
   "source": [
    "# Data Preparation: Step 2 (Select Only Numeric Columns)\n",
    "\n",
    "\n",
    "# Remove non-numeric data\n",
    "num_data = relev_data.select_dtypes(include=[np.number])\n",
    "\n",
    "# Track columns being used\n",
    "trackTrainColCount(num_data)"
   ]
  },
  {
   "cell_type": "code",
   "execution_count": 62,
   "id": "9d2940e0",
   "metadata": {
    "execution": {
     "iopub.execute_input": "2022-01-17T21:20:33.140091Z",
     "iopub.status.busy": "2022-01-17T21:20:33.139034Z",
     "iopub.status.idle": "2022-01-17T21:20:33.143905Z",
     "shell.execute_reply": "2022-01-17T21:20:33.144522Z",
     "shell.execute_reply.started": "2022-01-17T21:01:28.946065Z"
    },
    "papermill": {
     "duration": 0.060744,
     "end_time": "2022-01-17T21:20:33.144691",
     "exception": false,
     "start_time": "2022-01-17T21:20:33.083947",
     "status": "completed"
    },
    "tags": []
   },
   "outputs": [
    {
     "name": "stdout",
     "output_type": "stream",
     "text": [
      "The following numeric columns have null values: ['PoolQC', 'LotFrontage', 'GarageYrBlt']\n"
     ]
    }
   ],
   "source": [
    "# Data Preparation: Step 3 (Show Column Names With Nulls)\n",
    "\n",
    "\n",
    "# Check for null values in the remaining (numeric) fields\n",
    "count_nulls = pd.DataFrame(num_data.isnull().sum().sort_values(ascending= False))\n",
    "\n",
    "# Store only columns with null values\n",
    "nulls = count_nulls[count_nulls.iloc[:,0]>0]\n",
    "\n",
    "# Store column names of nulls\n",
    "null_cols = nulls.index\n",
    "\n",
    "print(f'The following numeric columns have null values: {list(null_cols)}')"
   ]
  },
  {
   "cell_type": "code",
   "execution_count": 63,
   "id": "8345f06b",
   "metadata": {
    "execution": {
     "iopub.execute_input": "2022-01-17T21:20:33.248573Z",
     "iopub.status.busy": "2022-01-17T21:20:33.247126Z",
     "iopub.status.idle": "2022-01-17T21:20:33.259210Z",
     "shell.execute_reply": "2022-01-17T21:20:33.258643Z",
     "shell.execute_reply.started": "2022-01-17T21:01:28.965127Z"
    },
    "papermill": {
     "duration": 0.067625,
     "end_time": "2022-01-17T21:20:33.259381",
     "exception": false,
     "start_time": "2022-01-17T21:20:33.191756",
     "status": "completed"
    },
    "tags": []
   },
   "outputs": [
    {
     "name": "stdout",
     "output_type": "stream",
     "text": [
      "There are now 0 numeric columns with null values.\n",
      "There are now 37 columns in use.\n"
     ]
    }
   ],
   "source": [
    "# Data Preparation: Step 4 (Interpolate Training Data)\n",
    "\n",
    "\n",
    "# Interpolate data\n",
    "num_data = num_data.select_dtypes(include=np.number).interpolate().dropna(axis = 1)\n",
    "\n",
    "\n",
    "# Verify no nulls are remaining\n",
    "print(f'There are now {sum(num_data.isnull().sum() != 0)} numeric columns with null values.')\n",
    "\n",
    "# Track columns being used\n",
    "trackTrainColCount(num_data)"
   ]
  },
  {
   "cell_type": "code",
   "execution_count": 64,
   "id": "b6c3a782",
   "metadata": {
    "execution": {
     "iopub.execute_input": "2022-01-17T21:20:33.363632Z",
     "iopub.status.busy": "2022-01-17T21:20:33.362940Z",
     "iopub.status.idle": "2022-01-17T21:20:33.365535Z",
     "shell.execute_reply": "2022-01-17T21:20:33.366100Z",
     "shell.execute_reply.started": "2022-01-17T21:01:28.985457Z"
    },
    "papermill": {
     "duration": 0.05858,
     "end_time": "2022-01-17T21:20:33.366281",
     "exception": false,
     "start_time": "2022-01-17T21:20:33.307701",
     "status": "completed"
    },
    "tags": []
   },
   "outputs": [
    {
     "name": "stdout",
     "output_type": "stream",
     "text": [
      "There are now 36 columns in use.\n"
     ]
    }
   ],
   "source": [
    "# Data Preparation: Step 5 (Select Only Non-Zero Sum Training Columns)\n",
    "\n",
    "\n",
    "# Remove columns that only have zero as a value\n",
    "clean_data = num_data[num_data.columns[num_data.sum() > 0]]\n",
    "\n",
    "\n",
    "# Track columns being used\n",
    "trackTrainColCount(clean_data)"
   ]
  },
  {
   "cell_type": "code",
   "execution_count": 65,
   "id": "cfd70064",
   "metadata": {
    "execution": {
     "iopub.execute_input": "2022-01-17T21:20:33.466459Z",
     "iopub.status.busy": "2022-01-17T21:20:33.465720Z",
     "iopub.status.idle": "2022-01-17T21:20:33.479245Z",
     "shell.execute_reply": "2022-01-17T21:20:33.479761Z",
     "shell.execute_reply.started": "2022-01-17T21:01:29.003063Z"
    },
    "papermill": {
     "duration": 0.066296,
     "end_time": "2022-01-17T21:20:33.479934",
     "exception": false,
     "start_time": "2022-01-17T21:20:33.413638",
     "status": "completed"
    },
    "tags": []
   },
   "outputs": [
    {
     "name": "stdout",
     "output_type": "stream",
     "text": [
      "There are now 0 numeric columns with null values.\n",
      "There are now 38 columns in use.\n"
     ]
    }
   ],
   "source": [
    "# Data Preparation: Step 6 (Interpolate Testing Data)\n",
    "\n",
    "\n",
    "# Interpolate test data\n",
    "num_test_data = test_data.select_dtypes(include=np.number).interpolate().dropna(axis = 1)\n",
    "\n",
    "\n",
    "# Verify no nulls are remaining\n",
    "print(f'There are now {sum(num_test_data.isnull().sum() != 0)} numeric columns with null values.')\n",
    "\n",
    "# Track columns being used\n",
    "trackTestColCount(num_test_data)"
   ]
  },
  {
   "cell_type": "code",
   "execution_count": 66,
   "id": "720ebf56",
   "metadata": {
    "execution": {
     "iopub.execute_input": "2022-01-17T21:20:33.584072Z",
     "iopub.status.busy": "2022-01-17T21:20:33.583182Z",
     "iopub.status.idle": "2022-01-17T21:20:33.586325Z",
     "shell.execute_reply": "2022-01-17T21:20:33.586801Z",
     "shell.execute_reply.started": "2022-01-17T21:01:29.034092Z"
    },
    "papermill": {
     "duration": 0.059126,
     "end_time": "2022-01-17T21:20:33.586963",
     "exception": false,
     "start_time": "2022-01-17T21:20:33.527837",
     "status": "completed"
    },
    "tags": []
   },
   "outputs": [
    {
     "name": "stdout",
     "output_type": "stream",
     "text": [
      "There is still 38 columns in use.\n"
     ]
    }
   ],
   "source": [
    "# Data Preparation: Step 7 (Select Only Non-Zero Sum Testing Columns)\n",
    "\n",
    "\n",
    "# Remove columns test data that only have zero as a value\n",
    "clean_test_data = num_test_data[num_test_data.columns[num_test_data.sum() > 0]]\n",
    "\n",
    "\n",
    "# Track columns being used\n",
    "trackTestColCount(clean_test_data)"
   ]
  },
  {
   "cell_type": "code",
   "execution_count": 67,
   "id": "e520b444",
   "metadata": {
    "execution": {
     "iopub.execute_input": "2022-01-17T21:20:33.689065Z",
     "iopub.status.busy": "2022-01-17T21:20:33.688333Z",
     "iopub.status.idle": "2022-01-17T21:20:33.693616Z",
     "shell.execute_reply": "2022-01-17T21:20:33.692925Z",
     "shell.execute_reply.started": "2022-01-17T21:01:29.046865Z"
    },
    "papermill": {
     "duration": 0.058871,
     "end_time": "2022-01-17T21:20:33.693772",
     "exception": false,
     "start_time": "2022-01-17T21:20:33.634901",
     "status": "completed"
    },
    "tags": []
   },
   "outputs": [
    {
     "name": "stdout",
     "output_type": "stream",
     "text": [
      "Shape of \"train_data\" (100, 36) and \"test_data\" (100, 38) before alignment. \n",
      "\n",
      "Columns that are not in both dataframes: ['Id', 'LotFrontage', 'PoolArea', 'Unnamed: 0']\n"
     ]
    }
   ],
   "source": [
    "# Data Preparation: Step 8 (Show Column Difference)\n",
    "\n",
    "print(f'Shape of \"train_data\" {clean_data.shape} and \"test_data\" {clean_test_data.shape} before alignment. \\n')\n",
    "\n",
    "# Determine which columns are not in both the testing and training datasets\n",
    "diff_cols = clean_data.columns.symmetric_difference(clean_test_data.columns)\n",
    "\n",
    "print(f'Columns that are not in both dataframes: {diff_cols.tolist()}' )"
   ]
  },
  {
   "cell_type": "code",
   "execution_count": 68,
   "id": "16a5b5c1",
   "metadata": {
    "execution": {
     "iopub.execute_input": "2022-01-17T21:20:33.795670Z",
     "iopub.status.busy": "2022-01-17T21:20:33.794989Z",
     "iopub.status.idle": "2022-01-17T21:20:33.804485Z",
     "shell.execute_reply": "2022-01-17T21:20:33.803610Z",
     "shell.execute_reply.started": "2022-01-17T21:01:29.059745Z"
    },
    "papermill": {
     "duration": 0.061578,
     "end_time": "2022-01-17T21:20:33.804772",
     "exception": false,
     "start_time": "2022-01-17T21:20:33.743194",
     "status": "completed"
    },
    "tags": []
   },
   "outputs": [
    {
     "name": "stdout",
     "output_type": "stream",
     "text": [
      "Shape of \"train_data\" (100, 35) and \"test_data\" (100, 35) after alignment.\n"
     ]
    }
   ],
   "source": [
    "# Data Preparation: Step 9 (Show Align Result)\n",
    "\n",
    "\n",
    "# Align training and testing data\n",
    "clean_data, clean_test_data = clean_data.align(clean_test_data, join='inner', axis=1)\n",
    "\n",
    "print(f'Shape of \"train_data\" {clean_data.shape} and \"test_data\" {clean_test_data.shape} after alignment.')\n"
   ]
  },
  {
   "cell_type": "markdown",
   "id": "aea52603",
   "metadata": {
    "papermill": {
     "duration": 0.065437,
     "end_time": "2022-01-17T21:20:33.920809",
     "exception": false,
     "start_time": "2022-01-17T21:20:33.855372",
     "status": "completed"
    },
    "tags": []
   },
   "source": [
    "[Back to top](#Index)\n",
    "\n",
    "### 2.4 Correlation\n",
    "\n",
    "##### Steps:\n",
    "\n",
    "1. **Identify Correlation:** Determine the correlation of the data to the sales price.\n",
    "    - **Sort & Exclude Sales Price:** Sort the correlated values in descending order and exclude the sales price.\n",
    "    - **Group & Show Correlations:** Group correlations by their strengths.\n",
    "    - **Show Abbr. List of Correlations:** Show a sorted and abbreviated list of correlations.\n",
    "    \n",
    "    \n",
    "2. **Limit Columns by Correlation Strength:** Limit model to columns that surpass the mininmum and maximum thresholds.\n",
    "    - **Show Column Count:** Columns are counted again to show the effects of the limit.\n",
    "    \n",
    "    \n",
    "3. **Store Remaining Column Names:** Store the names of the remaining columns that were restricted by their correlation strength.\n",
    "\n",
    "\n",
    "4. **Assign Model's X and Y Values:** Assign the sales price data to the y values of the model and the remaining columns to the x values.\n",
    "    - **Show Head:** Show the first five rows of the final x values."
   ]
  },
  {
   "cell_type": "code",
   "execution_count": 69,
   "id": "53af7de6",
   "metadata": {
    "execution": {
     "iopub.execute_input": "2022-01-17T21:20:34.031386Z",
     "iopub.status.busy": "2022-01-17T21:20:34.030469Z",
     "iopub.status.idle": "2022-01-17T21:20:34.046627Z",
     "shell.execute_reply": "2022-01-17T21:20:34.047119Z",
     "shell.execute_reply.started": "2022-01-17T21:01:29.070774Z"
    },
    "papermill": {
     "duration": 0.0757,
     "end_time": "2022-01-17T21:20:34.047306",
     "exception": false,
     "start_time": "2022-01-17T21:20:33.971606",
     "status": "completed"
    },
    "tags": []
   },
   "outputs": [
    {
     "name": "stdout",
     "output_type": "stream",
     "text": [
      "                SalePrice  Count\n",
      "0  Strong Negative Assoc.      0\n",
      "1  Medium Negative Assoc.      0\n",
      "2    Weak Negative Assoc.      3\n",
      "3               No Assoc.      9\n",
      "4    Weak Positive Assoc.      7\n",
      "5  Medium Positive Assoc.      9\n",
      "6  Strong Positive Assoc.      6 \n",
      "\n",
      "\n",
      "Appoximately 72.73% of the columns have either a positive or negative correlation with the sales price. \n",
      "\n",
      "\n",
      "Correlation of 33 numeric columns compared to the \"SalePrice\" \n",
      "\n",
      "\n",
      "OverallQual      0.855061\n",
      "GrLivArea        0.735129\n",
      "GarageArea       0.688249\n",
      "GarageCars       0.663441\n",
      "YearBuilt        0.658636\n",
      "TotalBsmtSF      0.616297\n",
      "GarageYrBlt      0.589361\n",
      "FullBath         0.579505\n",
      "MasVnrArea       0.571836\n",
      "TotRmsAbvGrd     0.553603\n",
      "1stFlrSF         0.550912\n",
      "YearRemodAdd     0.548330\n",
      "LotArea          0.497124\n",
      "Fireplaces       0.487907\n",
      "WoodDeckSF       0.451241\n",
      "2ndFlrSF         0.381076\n",
      "BsmtUnfSF        0.327020\n",
      "HalfBath         0.319304\n",
      "OpenPorchSF      0.301960\n",
      "BsmtFinSF1       0.266713\n",
      "MoSold           0.256863\n",
      "BedroomAbvGr     0.233426\n",
      "BsmtFullBath     0.155689\n",
      "ScreenPorch      0.035930\n",
      "3SsnPorch       -0.019391\n",
      "BsmtHalfBath    -0.055100\n",
      "MSSubClass      -0.066819\n",
      "MiscVal         -0.134707\n",
      "BsmtFinSF2      -0.138126\n",
      "LowQualFinSF    -0.150027\n",
      "OverallCond     -0.170443\n",
      "EnclosedPorch   -0.233483\n",
      "KitchenAbvGr    -0.235659\n",
      "YrSold          -0.262683\n",
      "Name: SalePrice, dtype: float64\n"
     ]
    }
   ],
   "source": [
    "# Correlation: Step 1 (Identify Correlation)\n",
    "\n",
    "\n",
    "# Determine correlation of numeric columns to the 'SalePrice' column\n",
    "all_corr = clean_data.corr()['SalePrice']\n",
    "\n",
    "# Sort then store the correlated columns not including the 'SalePrice'\n",
    "sorted_corr = all_corr.sort_values(ascending = False)[1:]\n",
    "\n",
    "# Group the correlated columns by strength\n",
    "bins = [-1, -0.59, -0.39, -0.19, 0.19, 0.39, 0.59, 1]\n",
    "labels = ['Strong Negative Assoc.','Medium Negative Assoc.','Weak Negative Assoc.','No Assoc.','Weak Positive Assoc.','Medium Positive Assoc.','Strong Positive Assoc.']\n",
    "grouped_corr = sorted_corr.groupby(pd.cut(sorted_corr, bins=bins, labels=labels)).size().reset_index(name='Count')\n",
    "\n",
    "# Count columns not including the sales price\n",
    "count_excl_sales = (len(sorted_corr)-1)\n",
    "# Count columns that have a correlation with the sales price\n",
    "count_has_corr = count_excl_sales - grouped_corr.iloc[3,1]\n",
    "\n",
    "print (grouped_corr,\"\\n\\n\")\n",
    "\n",
    "print('Appoximately {:.2%} of the columns have either a positive or negative correlation with the sales price. \\n\\n'.format((count_has_corr/count_excl_sales)))\n",
    "\n",
    "print(f'Correlation of {count_excl_sales} numeric columns compared to the \"SalePrice\" \\n\\n')\n",
    "                      \n",
    "print(sorted_corr)"
   ]
  },
  {
   "cell_type": "code",
   "execution_count": 70,
   "id": "37ced778",
   "metadata": {
    "execution": {
     "iopub.execute_input": "2022-01-17T21:20:34.157838Z",
     "iopub.status.busy": "2022-01-17T21:20:34.151746Z",
     "iopub.status.idle": "2022-01-17T21:20:34.165521Z",
     "shell.execute_reply": "2022-01-17T21:20:34.164988Z",
     "shell.execute_reply.started": "2022-01-17T21:01:29.100366Z"
    },
    "papermill": {
     "duration": 0.066783,
     "end_time": "2022-01-17T21:20:34.165682",
     "exception": false,
     "start_time": "2022-01-17T21:20:34.098899",
     "status": "completed"
    },
    "tags": []
   },
   "outputs": [
    {
     "name": "stdout",
     "output_type": "stream",
     "text": [
      "Correlation (corr) compared to the \"SalePrice\":\n",
      "\n",
      "\tGroup 1 |corr| > 0.0: There are 34 cleansed columns.\n",
      "\n",
      "\tGroup 2 |corr| > 0.19: There are 25 cleansed columns.\n",
      "\n",
      "\tGroup 3 |corr| > 0.39: There are 15 cleansed columns.\n",
      "\n"
     ]
    }
   ],
   "source": [
    "# Correlation: Step 2 (Limit Columns by Correlation Strength)\n",
    "\n",
    "\n",
    "# Store the correlated columns after limiting them to correlations less than 'min_not_include' or greater than 'max_not_include'.\n",
    "\n",
    "# No Correlation Limits\n",
    "no_min_not_include = -0.0\n",
    "no_max_not_include = 0.0\n",
    "\n",
    "# Medium Correlation Limits\n",
    "med_min_not_include = -0.19\n",
    "med_max_not_include = 0.19\n",
    "\n",
    "# High Correlation Limits\n",
    "hi_min_not_include = -0.39\n",
    "hi_max_not_include = 0.39\n",
    "\n",
    "no_lim_corr = pd.DataFrame(sorted_corr[~sorted_corr.between(no_min_not_include, no_max_not_include)])\n",
    "med_lim_corr = pd.DataFrame(sorted_corr[~sorted_corr.between(med_min_not_include, med_max_not_include)])\n",
    "hi_lim_corr = pd.DataFrame(sorted_corr[~sorted_corr.between(hi_min_not_include, hi_max_not_include)])\n",
    "\n",
    "# Assign to arrays\n",
    "min_not_include_list = [no_min_not_include, med_min_not_include, hi_min_not_include]\n",
    "max_not_include_list = [no_max_not_include, med_max_not_include, hi_max_not_include]\n",
    "lim_corr_list = [no_lim_corr, med_lim_corr, hi_lim_corr]\n",
    "\n",
    "print('Correlation (corr) compared to the \"SalePrice\":\\n')\n",
    "\n",
    "count = 1\n",
    "for min_not_include, max_not_include, lim_corr in zip(min_not_include_list, max_not_include_list, lim_corr_list):\n",
    "    print(f'\\tGroup {count} |corr| > {max_not_include}: There are {len(lim_corr)} cleansed columns.\\n')\n",
    "    count += 1"
   ]
  },
  {
   "cell_type": "code",
   "execution_count": 71,
   "id": "abe1b29c",
   "metadata": {
    "execution": {
     "iopub.execute_input": "2022-01-17T21:20:34.272931Z",
     "iopub.status.busy": "2022-01-17T21:20:34.272188Z",
     "iopub.status.idle": "2022-01-17T21:20:34.275016Z",
     "shell.execute_reply": "2022-01-17T21:20:34.274488Z",
     "shell.execute_reply.started": "2022-01-17T21:01:29.116987Z"
    },
    "papermill": {
     "duration": 0.058678,
     "end_time": "2022-01-17T21:20:34.275177",
     "exception": false,
     "start_time": "2022-01-17T21:20:34.216499",
     "status": "completed"
    },
    "tags": []
   },
   "outputs": [],
   "source": [
    "# Correlation: Step 3 (Store Remaing Column Names)\n",
    "\n",
    "\n",
    "# Store the correlated columns names\n",
    "no_lim_corr_cols = no_lim_corr.index\n",
    "med_lim_corr_cols = med_lim_corr.index\n",
    "hi_lim_corr_cols = hi_lim_corr.index\n",
    "\n",
    "# Assign to array \n",
    "lim_corr_cols_list = [no_lim_corr_cols, med_lim_corr_cols, hi_lim_corr_cols]\n"
   ]
  },
  {
   "cell_type": "code",
   "execution_count": 72,
   "id": "b9ff09b7",
   "metadata": {
    "execution": {
     "iopub.execute_input": "2022-01-17T21:20:34.403302Z",
     "iopub.status.busy": "2022-01-17T21:20:34.394812Z",
     "iopub.status.idle": "2022-01-17T21:20:34.447357Z",
     "shell.execute_reply": "2022-01-17T21:20:34.447847Z",
     "shell.execute_reply.started": "2022-01-17T21:01:29.137128Z"
    },
    "papermill": {
     "duration": 0.12289,
     "end_time": "2022-01-17T21:20:34.448015",
     "exception": false,
     "start_time": "2022-01-17T21:20:34.325125",
     "status": "completed"
    },
    "tags": []
   },
   "outputs": [
    {
     "name": "stdout",
     "output_type": "stream",
     "text": [
      "\n",
      "|corr| > 0.0\n"
     ]
    },
    {
     "data": {
      "text/html": [
       "<div>\n",
       "<style scoped>\n",
       "    .dataframe tbody tr th:only-of-type {\n",
       "        vertical-align: middle;\n",
       "    }\n",
       "\n",
       "    .dataframe tbody tr th {\n",
       "        vertical-align: top;\n",
       "    }\n",
       "\n",
       "    .dataframe thead th {\n",
       "        text-align: right;\n",
       "    }\n",
       "</style>\n",
       "<table border=\"1\" class=\"dataframe\">\n",
       "  <thead>\n",
       "    <tr style=\"text-align: right;\">\n",
       "      <th></th>\n",
       "      <th>OverallQual</th>\n",
       "      <th>GrLivArea</th>\n",
       "      <th>GarageArea</th>\n",
       "      <th>GarageCars</th>\n",
       "      <th>YearBuilt</th>\n",
       "      <th>TotalBsmtSF</th>\n",
       "      <th>GarageYrBlt</th>\n",
       "      <th>FullBath</th>\n",
       "      <th>MasVnrArea</th>\n",
       "      <th>TotRmsAbvGrd</th>\n",
       "      <th>...</th>\n",
       "      <th>3SsnPorch</th>\n",
       "      <th>BsmtHalfBath</th>\n",
       "      <th>MSSubClass</th>\n",
       "      <th>MiscVal</th>\n",
       "      <th>BsmtFinSF2</th>\n",
       "      <th>LowQualFinSF</th>\n",
       "      <th>OverallCond</th>\n",
       "      <th>EnclosedPorch</th>\n",
       "      <th>KitchenAbvGr</th>\n",
       "      <th>YrSold</th>\n",
       "    </tr>\n",
       "  </thead>\n",
       "  <tbody>\n",
       "    <tr>\n",
       "      <th>0</th>\n",
       "      <td>7</td>\n",
       "      <td>1710</td>\n",
       "      <td>548</td>\n",
       "      <td>2</td>\n",
       "      <td>2003</td>\n",
       "      <td>856</td>\n",
       "      <td>2003.0</td>\n",
       "      <td>2</td>\n",
       "      <td>196.0</td>\n",
       "      <td>8</td>\n",
       "      <td>...</td>\n",
       "      <td>0</td>\n",
       "      <td>0</td>\n",
       "      <td>60</td>\n",
       "      <td>0</td>\n",
       "      <td>0</td>\n",
       "      <td>0</td>\n",
       "      <td>5</td>\n",
       "      <td>0</td>\n",
       "      <td>1</td>\n",
       "      <td>2008</td>\n",
       "    </tr>\n",
       "    <tr>\n",
       "      <th>1</th>\n",
       "      <td>6</td>\n",
       "      <td>1262</td>\n",
       "      <td>460</td>\n",
       "      <td>2</td>\n",
       "      <td>1976</td>\n",
       "      <td>1262</td>\n",
       "      <td>1976.0</td>\n",
       "      <td>2</td>\n",
       "      <td>0.0</td>\n",
       "      <td>6</td>\n",
       "      <td>...</td>\n",
       "      <td>0</td>\n",
       "      <td>1</td>\n",
       "      <td>20</td>\n",
       "      <td>0</td>\n",
       "      <td>0</td>\n",
       "      <td>0</td>\n",
       "      <td>8</td>\n",
       "      <td>0</td>\n",
       "      <td>1</td>\n",
       "      <td>2007</td>\n",
       "    </tr>\n",
       "    <tr>\n",
       "      <th>2</th>\n",
       "      <td>7</td>\n",
       "      <td>1786</td>\n",
       "      <td>608</td>\n",
       "      <td>2</td>\n",
       "      <td>2001</td>\n",
       "      <td>920</td>\n",
       "      <td>2001.0</td>\n",
       "      <td>2</td>\n",
       "      <td>162.0</td>\n",
       "      <td>6</td>\n",
       "      <td>...</td>\n",
       "      <td>0</td>\n",
       "      <td>0</td>\n",
       "      <td>60</td>\n",
       "      <td>0</td>\n",
       "      <td>0</td>\n",
       "      <td>0</td>\n",
       "      <td>5</td>\n",
       "      <td>0</td>\n",
       "      <td>1</td>\n",
       "      <td>2008</td>\n",
       "    </tr>\n",
       "    <tr>\n",
       "      <th>3</th>\n",
       "      <td>7</td>\n",
       "      <td>1717</td>\n",
       "      <td>642</td>\n",
       "      <td>3</td>\n",
       "      <td>1915</td>\n",
       "      <td>756</td>\n",
       "      <td>1998.0</td>\n",
       "      <td>1</td>\n",
       "      <td>0.0</td>\n",
       "      <td>7</td>\n",
       "      <td>...</td>\n",
       "      <td>0</td>\n",
       "      <td>0</td>\n",
       "      <td>70</td>\n",
       "      <td>0</td>\n",
       "      <td>0</td>\n",
       "      <td>0</td>\n",
       "      <td>5</td>\n",
       "      <td>272</td>\n",
       "      <td>1</td>\n",
       "      <td>2006</td>\n",
       "    </tr>\n",
       "    <tr>\n",
       "      <th>4</th>\n",
       "      <td>8</td>\n",
       "      <td>2198</td>\n",
       "      <td>836</td>\n",
       "      <td>3</td>\n",
       "      <td>2000</td>\n",
       "      <td>1145</td>\n",
       "      <td>2000.0</td>\n",
       "      <td>2</td>\n",
       "      <td>350.0</td>\n",
       "      <td>9</td>\n",
       "      <td>...</td>\n",
       "      <td>0</td>\n",
       "      <td>0</td>\n",
       "      <td>60</td>\n",
       "      <td>0</td>\n",
       "      <td>0</td>\n",
       "      <td>0</td>\n",
       "      <td>5</td>\n",
       "      <td>0</td>\n",
       "      <td>1</td>\n",
       "      <td>2008</td>\n",
       "    </tr>\n",
       "  </tbody>\n",
       "</table>\n",
       "<p>5 rows × 34 columns</p>\n",
       "</div>"
      ],
      "text/plain": [
       "   OverallQual  GrLivArea  GarageArea  GarageCars  YearBuilt  TotalBsmtSF  \\\n",
       "0            7       1710         548           2       2003          856   \n",
       "1            6       1262         460           2       1976         1262   \n",
       "2            7       1786         608           2       2001          920   \n",
       "3            7       1717         642           3       1915          756   \n",
       "4            8       2198         836           3       2000         1145   \n",
       "\n",
       "   GarageYrBlt  FullBath  MasVnrArea  TotRmsAbvGrd  ...  3SsnPorch  \\\n",
       "0       2003.0         2       196.0             8  ...          0   \n",
       "1       1976.0         2         0.0             6  ...          0   \n",
       "2       2001.0         2       162.0             6  ...          0   \n",
       "3       1998.0         1         0.0             7  ...          0   \n",
       "4       2000.0         2       350.0             9  ...          0   \n",
       "\n",
       "   BsmtHalfBath  MSSubClass  MiscVal  BsmtFinSF2  LowQualFinSF  OverallCond  \\\n",
       "0             0          60        0           0             0            5   \n",
       "1             1          20        0           0             0            8   \n",
       "2             0          60        0           0             0            5   \n",
       "3             0          70        0           0             0            5   \n",
       "4             0          60        0           0             0            5   \n",
       "\n",
       "   EnclosedPorch  KitchenAbvGr  YrSold  \n",
       "0              0             1    2008  \n",
       "1              0             1    2007  \n",
       "2              0             1    2008  \n",
       "3            272             1    2006  \n",
       "4              0             1    2008  \n",
       "\n",
       "[5 rows x 34 columns]"
      ]
     },
     "metadata": {},
     "output_type": "display_data"
    },
    {
     "name": "stdout",
     "output_type": "stream",
     "text": [
      "\n",
      "|corr| > 0.19\n"
     ]
    },
    {
     "data": {
      "text/html": [
       "<div>\n",
       "<style scoped>\n",
       "    .dataframe tbody tr th:only-of-type {\n",
       "        vertical-align: middle;\n",
       "    }\n",
       "\n",
       "    .dataframe tbody tr th {\n",
       "        vertical-align: top;\n",
       "    }\n",
       "\n",
       "    .dataframe thead th {\n",
       "        text-align: right;\n",
       "    }\n",
       "</style>\n",
       "<table border=\"1\" class=\"dataframe\">\n",
       "  <thead>\n",
       "    <tr style=\"text-align: right;\">\n",
       "      <th></th>\n",
       "      <th>OverallQual</th>\n",
       "      <th>GrLivArea</th>\n",
       "      <th>GarageArea</th>\n",
       "      <th>GarageCars</th>\n",
       "      <th>YearBuilt</th>\n",
       "      <th>TotalBsmtSF</th>\n",
       "      <th>GarageYrBlt</th>\n",
       "      <th>FullBath</th>\n",
       "      <th>MasVnrArea</th>\n",
       "      <th>TotRmsAbvGrd</th>\n",
       "      <th>...</th>\n",
       "      <th>2ndFlrSF</th>\n",
       "      <th>BsmtUnfSF</th>\n",
       "      <th>HalfBath</th>\n",
       "      <th>OpenPorchSF</th>\n",
       "      <th>BsmtFinSF1</th>\n",
       "      <th>MoSold</th>\n",
       "      <th>BedroomAbvGr</th>\n",
       "      <th>EnclosedPorch</th>\n",
       "      <th>KitchenAbvGr</th>\n",
       "      <th>YrSold</th>\n",
       "    </tr>\n",
       "  </thead>\n",
       "  <tbody>\n",
       "    <tr>\n",
       "      <th>0</th>\n",
       "      <td>7</td>\n",
       "      <td>1710</td>\n",
       "      <td>548</td>\n",
       "      <td>2</td>\n",
       "      <td>2003</td>\n",
       "      <td>856</td>\n",
       "      <td>2003.0</td>\n",
       "      <td>2</td>\n",
       "      <td>196.0</td>\n",
       "      <td>8</td>\n",
       "      <td>...</td>\n",
       "      <td>854</td>\n",
       "      <td>150</td>\n",
       "      <td>1</td>\n",
       "      <td>61</td>\n",
       "      <td>706</td>\n",
       "      <td>2</td>\n",
       "      <td>3</td>\n",
       "      <td>0</td>\n",
       "      <td>1</td>\n",
       "      <td>2008</td>\n",
       "    </tr>\n",
       "    <tr>\n",
       "      <th>1</th>\n",
       "      <td>6</td>\n",
       "      <td>1262</td>\n",
       "      <td>460</td>\n",
       "      <td>2</td>\n",
       "      <td>1976</td>\n",
       "      <td>1262</td>\n",
       "      <td>1976.0</td>\n",
       "      <td>2</td>\n",
       "      <td>0.0</td>\n",
       "      <td>6</td>\n",
       "      <td>...</td>\n",
       "      <td>0</td>\n",
       "      <td>284</td>\n",
       "      <td>0</td>\n",
       "      <td>0</td>\n",
       "      <td>978</td>\n",
       "      <td>5</td>\n",
       "      <td>3</td>\n",
       "      <td>0</td>\n",
       "      <td>1</td>\n",
       "      <td>2007</td>\n",
       "    </tr>\n",
       "    <tr>\n",
       "      <th>2</th>\n",
       "      <td>7</td>\n",
       "      <td>1786</td>\n",
       "      <td>608</td>\n",
       "      <td>2</td>\n",
       "      <td>2001</td>\n",
       "      <td>920</td>\n",
       "      <td>2001.0</td>\n",
       "      <td>2</td>\n",
       "      <td>162.0</td>\n",
       "      <td>6</td>\n",
       "      <td>...</td>\n",
       "      <td>866</td>\n",
       "      <td>434</td>\n",
       "      <td>1</td>\n",
       "      <td>42</td>\n",
       "      <td>486</td>\n",
       "      <td>9</td>\n",
       "      <td>3</td>\n",
       "      <td>0</td>\n",
       "      <td>1</td>\n",
       "      <td>2008</td>\n",
       "    </tr>\n",
       "    <tr>\n",
       "      <th>3</th>\n",
       "      <td>7</td>\n",
       "      <td>1717</td>\n",
       "      <td>642</td>\n",
       "      <td>3</td>\n",
       "      <td>1915</td>\n",
       "      <td>756</td>\n",
       "      <td>1998.0</td>\n",
       "      <td>1</td>\n",
       "      <td>0.0</td>\n",
       "      <td>7</td>\n",
       "      <td>...</td>\n",
       "      <td>756</td>\n",
       "      <td>540</td>\n",
       "      <td>0</td>\n",
       "      <td>35</td>\n",
       "      <td>216</td>\n",
       "      <td>2</td>\n",
       "      <td>3</td>\n",
       "      <td>272</td>\n",
       "      <td>1</td>\n",
       "      <td>2006</td>\n",
       "    </tr>\n",
       "    <tr>\n",
       "      <th>4</th>\n",
       "      <td>8</td>\n",
       "      <td>2198</td>\n",
       "      <td>836</td>\n",
       "      <td>3</td>\n",
       "      <td>2000</td>\n",
       "      <td>1145</td>\n",
       "      <td>2000.0</td>\n",
       "      <td>2</td>\n",
       "      <td>350.0</td>\n",
       "      <td>9</td>\n",
       "      <td>...</td>\n",
       "      <td>1053</td>\n",
       "      <td>490</td>\n",
       "      <td>1</td>\n",
       "      <td>84</td>\n",
       "      <td>655</td>\n",
       "      <td>12</td>\n",
       "      <td>4</td>\n",
       "      <td>0</td>\n",
       "      <td>1</td>\n",
       "      <td>2008</td>\n",
       "    </tr>\n",
       "  </tbody>\n",
       "</table>\n",
       "<p>5 rows × 25 columns</p>\n",
       "</div>"
      ],
      "text/plain": [
       "   OverallQual  GrLivArea  GarageArea  GarageCars  YearBuilt  TotalBsmtSF  \\\n",
       "0            7       1710         548           2       2003          856   \n",
       "1            6       1262         460           2       1976         1262   \n",
       "2            7       1786         608           2       2001          920   \n",
       "3            7       1717         642           3       1915          756   \n",
       "4            8       2198         836           3       2000         1145   \n",
       "\n",
       "   GarageYrBlt  FullBath  MasVnrArea  TotRmsAbvGrd  ...  2ndFlrSF  BsmtUnfSF  \\\n",
       "0       2003.0         2       196.0             8  ...       854        150   \n",
       "1       1976.0         2         0.0             6  ...         0        284   \n",
       "2       2001.0         2       162.0             6  ...       866        434   \n",
       "3       1998.0         1         0.0             7  ...       756        540   \n",
       "4       2000.0         2       350.0             9  ...      1053        490   \n",
       "\n",
       "   HalfBath  OpenPorchSF  BsmtFinSF1  MoSold  BedroomAbvGr  EnclosedPorch  \\\n",
       "0         1           61         706       2             3              0   \n",
       "1         0            0         978       5             3              0   \n",
       "2         1           42         486       9             3              0   \n",
       "3         0           35         216       2             3            272   \n",
       "4         1           84         655      12             4              0   \n",
       "\n",
       "   KitchenAbvGr  YrSold  \n",
       "0             1    2008  \n",
       "1             1    2007  \n",
       "2             1    2008  \n",
       "3             1    2006  \n",
       "4             1    2008  \n",
       "\n",
       "[5 rows x 25 columns]"
      ]
     },
     "metadata": {},
     "output_type": "display_data"
    },
    {
     "name": "stdout",
     "output_type": "stream",
     "text": [
      "\n",
      "|corr| > 0.39\n"
     ]
    },
    {
     "data": {
      "text/html": [
       "<div>\n",
       "<style scoped>\n",
       "    .dataframe tbody tr th:only-of-type {\n",
       "        vertical-align: middle;\n",
       "    }\n",
       "\n",
       "    .dataframe tbody tr th {\n",
       "        vertical-align: top;\n",
       "    }\n",
       "\n",
       "    .dataframe thead th {\n",
       "        text-align: right;\n",
       "    }\n",
       "</style>\n",
       "<table border=\"1\" class=\"dataframe\">\n",
       "  <thead>\n",
       "    <tr style=\"text-align: right;\">\n",
       "      <th></th>\n",
       "      <th>OverallQual</th>\n",
       "      <th>GrLivArea</th>\n",
       "      <th>GarageArea</th>\n",
       "      <th>GarageCars</th>\n",
       "      <th>YearBuilt</th>\n",
       "      <th>TotalBsmtSF</th>\n",
       "      <th>GarageYrBlt</th>\n",
       "      <th>FullBath</th>\n",
       "      <th>MasVnrArea</th>\n",
       "      <th>TotRmsAbvGrd</th>\n",
       "      <th>1stFlrSF</th>\n",
       "      <th>YearRemodAdd</th>\n",
       "      <th>LotArea</th>\n",
       "      <th>Fireplaces</th>\n",
       "      <th>WoodDeckSF</th>\n",
       "    </tr>\n",
       "  </thead>\n",
       "  <tbody>\n",
       "    <tr>\n",
       "      <th>0</th>\n",
       "      <td>7</td>\n",
       "      <td>1710</td>\n",
       "      <td>548</td>\n",
       "      <td>2</td>\n",
       "      <td>2003</td>\n",
       "      <td>856</td>\n",
       "      <td>2003.0</td>\n",
       "      <td>2</td>\n",
       "      <td>196.0</td>\n",
       "      <td>8</td>\n",
       "      <td>856</td>\n",
       "      <td>2003</td>\n",
       "      <td>8450</td>\n",
       "      <td>0</td>\n",
       "      <td>0</td>\n",
       "    </tr>\n",
       "    <tr>\n",
       "      <th>1</th>\n",
       "      <td>6</td>\n",
       "      <td>1262</td>\n",
       "      <td>460</td>\n",
       "      <td>2</td>\n",
       "      <td>1976</td>\n",
       "      <td>1262</td>\n",
       "      <td>1976.0</td>\n",
       "      <td>2</td>\n",
       "      <td>0.0</td>\n",
       "      <td>6</td>\n",
       "      <td>1262</td>\n",
       "      <td>1976</td>\n",
       "      <td>9600</td>\n",
       "      <td>1</td>\n",
       "      <td>298</td>\n",
       "    </tr>\n",
       "    <tr>\n",
       "      <th>2</th>\n",
       "      <td>7</td>\n",
       "      <td>1786</td>\n",
       "      <td>608</td>\n",
       "      <td>2</td>\n",
       "      <td>2001</td>\n",
       "      <td>920</td>\n",
       "      <td>2001.0</td>\n",
       "      <td>2</td>\n",
       "      <td>162.0</td>\n",
       "      <td>6</td>\n",
       "      <td>920</td>\n",
       "      <td>2002</td>\n",
       "      <td>11250</td>\n",
       "      <td>1</td>\n",
       "      <td>0</td>\n",
       "    </tr>\n",
       "    <tr>\n",
       "      <th>3</th>\n",
       "      <td>7</td>\n",
       "      <td>1717</td>\n",
       "      <td>642</td>\n",
       "      <td>3</td>\n",
       "      <td>1915</td>\n",
       "      <td>756</td>\n",
       "      <td>1998.0</td>\n",
       "      <td>1</td>\n",
       "      <td>0.0</td>\n",
       "      <td>7</td>\n",
       "      <td>961</td>\n",
       "      <td>1970</td>\n",
       "      <td>9550</td>\n",
       "      <td>1</td>\n",
       "      <td>0</td>\n",
       "    </tr>\n",
       "    <tr>\n",
       "      <th>4</th>\n",
       "      <td>8</td>\n",
       "      <td>2198</td>\n",
       "      <td>836</td>\n",
       "      <td>3</td>\n",
       "      <td>2000</td>\n",
       "      <td>1145</td>\n",
       "      <td>2000.0</td>\n",
       "      <td>2</td>\n",
       "      <td>350.0</td>\n",
       "      <td>9</td>\n",
       "      <td>1145</td>\n",
       "      <td>2000</td>\n",
       "      <td>14260</td>\n",
       "      <td>1</td>\n",
       "      <td>192</td>\n",
       "    </tr>\n",
       "  </tbody>\n",
       "</table>\n",
       "</div>"
      ],
      "text/plain": [
       "   OverallQual  GrLivArea  GarageArea  GarageCars  YearBuilt  TotalBsmtSF  \\\n",
       "0            7       1710         548           2       2003          856   \n",
       "1            6       1262         460           2       1976         1262   \n",
       "2            7       1786         608           2       2001          920   \n",
       "3            7       1717         642           3       1915          756   \n",
       "4            8       2198         836           3       2000         1145   \n",
       "\n",
       "   GarageYrBlt  FullBath  MasVnrArea  TotRmsAbvGrd  1stFlrSF  YearRemodAdd  \\\n",
       "0       2003.0         2       196.0             8       856          2003   \n",
       "1       1976.0         2         0.0             6      1262          1976   \n",
       "2       2001.0         2       162.0             6       920          2002   \n",
       "3       1998.0         1         0.0             7       961          1970   \n",
       "4       2000.0         2       350.0             9      1145          2000   \n",
       "\n",
       "   LotArea  Fireplaces  WoodDeckSF  \n",
       "0     8450           0           0  \n",
       "1     9600           1         298  \n",
       "2    11250           1           0  \n",
       "3     9550           1           0  \n",
       "4    14260           1         192  "
      ]
     },
     "metadata": {},
     "output_type": "display_data"
    }
   ],
   "source": [
    "# Correlation: Step 4 (Assign Model's X & Y Values)\n",
    "\n",
    "\n",
    "# Get x and y values \n",
    "\n",
    "# Assign 'SalePrice' y column\n",
    "y = clean_data['SalePrice']\n",
    "\n",
    "# Assign all remaining columns except 'SalePrice' to x column\n",
    "x_no_lim = clean_data[no_lim_corr_cols]\n",
    "x_med_lim = clean_data[med_lim_corr_cols]\n",
    "x_hi_lim = clean_data[hi_lim_corr_cols]\n",
    "\n",
    "# Assign to array\n",
    "x_train_list = [x_no_lim, x_med_lim, x_hi_lim]\n",
    "\n",
    "# Cycle through all x lists\n",
    "for max_not_include, x_train in zip(max_not_include_list, x_train_list):\n",
    "    print(f'\\n|corr| > {max_not_include}')\n",
    "    # Show truncated data \n",
    "    display(x_train.head())\n"
   ]
  },
  {
   "cell_type": "markdown",
   "id": "8765367e",
   "metadata": {
    "papermill": {
     "duration": 0.054285,
     "end_time": "2022-01-17T21:20:34.556370",
     "exception": false,
     "start_time": "2022-01-17T21:20:34.502085",
     "status": "completed"
    },
    "tags": []
   },
   "source": [
    "\n",
    "[Back to top](#Index)\n",
    "\n",
    "## 3. Project Description\n",
    "\n",
    "The 'data_descriptions.txt' file provided insight into which columns should be included in the model. An additional 16 categorical columns were included by using the 'data_descriptions.txt' file to identify which categorical columns were ordinal. \n",
    "\n",
    "In addition, more columns were included by determining their correlation to the sales price. 55 columns were found to have at least some correlation to the sales price. Out of the 55 columns, 29 columns were found to have a moderate to strong correlation with the sales price. A medium to strong correlation coefficient is defined as greater than 0.39.\n",
    "\n",
    "The variables were divided into three groups based on their correlation. Plotting the residuals and the predictions showed that the algorithm was a good fit for the models. Sales prices could be predicted with up to approximately 98% accuracy."
   ]
  },
  {
   "attachments": {
    "21a79ea0-1128-4e7b-9e4f-730868088294.png": {
     "image/png": "[encoded data removed]"
    },
    "6fb2a002-20f7-44b0-a02d-681ad6bfd417.png": {
     "image/png": "[encoded data removed]"
    }
   },
   "cell_type": "markdown",
   "id": "21768b59",
   "metadata": {
    "papermill": {
     "duration": 0.054419,
     "end_time": "2022-01-17T21:20:34.665552",
     "exception": false,
     "start_time": "2022-01-17T21:20:34.611133",
     "status": "completed"
    },
    "tags": []
   },
   "source": [
    "[Back to top](#Index)\n",
    "\n",
    "### 3.1 Linear Regression\n",
    "\n",
    "A linear regression algorithm was used to model the relationship between the explanatory variables and the dependent variable by fitting a linear equation to the observed data. The dependent variable in this model is the sales price, and the explanatory variables are the property attributes, such as the number of bedrooms, living area square footage, etc. \n",
    "\n",
    "However, it is important to first establish a relationship between the explanatory variables and the dependent variable. Section 2.4 above shows that there is indeed a correlation between the dependent variable and approximately 61 percent of the explanatory variables. \n",
    "\n",
    "The linear equation is in the form of Y=a+bX. The dependent variable, Y, is the sales price, and the explanatory variables, X, are the property attributes. The slope of the line, b, is calculated by the formula b = r (sy/sx). The correlation factor is represented by r. The standard deviations for x and y, are represented by sy and sx, respectively. The y-intercept, a, is the y value when x is equal to zero.[6]\n",
    "\n",
    "It should be noted that correlation does not mean causation. Sometimes a third variable is responsible for the correlation between the dependent and explanatory variables.\n",
    "\n",
    "Histograms of the residuals were plotted to verify the residuals were normally distributed. \n",
    "\n",
    "![normality-histogramy](/imgs/normality-histogram.png)\n",
    "\n",
    "The Least-Squares Method was used to fit the regression line. It is the most common method for calculating the best-fitting line for the observed data. This is done by minimizing the sum of the squares of the vertical deviations. Since these deviations are only summed after they have been squared, all values are positive. This ensures that there are no cancellations between positive and negative values.[4] \n",
    "\n",
    "Once the Least Squares Regression Line is calculated the sales price can be determined by substituting the x values into the equation.[6] Care should be taken to avoid extrapolation. Sales price should only be estimated for values within the range of the model.[4] "
   ]
  },
  {
   "cell_type": "markdown",
   "id": "c9d56e1b",
   "metadata": {
    "papermill": {
     "duration": 0.053266,
     "end_time": "2022-01-17T21:20:34.773045",
     "exception": false,
     "start_time": "2022-01-17T21:20:34.719779",
     "status": "completed"
    },
    "tags": []
   },
   "source": [
    "[Back to top](#Index)\n",
    "\n",
    "### 3.2 Analysis \n"
   ]
  },
  {
   "cell_type": "code",
   "execution_count": 73,
   "id": "9d49d50a",
   "metadata": {
    "execution": {
     "iopub.execute_input": "2022-01-17T21:20:34.911855Z",
     "iopub.status.busy": "2022-01-17T21:20:34.910673Z",
     "iopub.status.idle": "2022-01-17T21:20:34.928189Z",
     "shell.execute_reply": "2022-01-17T21:20:34.928782Z",
     "shell.execute_reply.started": "2022-01-17T21:01:29.211653Z"
    },
    "papermill": {
     "duration": 0.102002,
     "end_time": "2022-01-17T21:20:34.928963",
     "exception": false,
     "start_time": "2022-01-17T21:20:34.826961",
     "status": "completed"
    },
    "tags": []
   },
   "outputs": [],
   "source": [
    "# Assign the Linear Regression Model\n",
    "lr_train_no_lim = linear_model.LinearRegression()\n",
    "lr_train_med_lim = linear_model.LinearRegression()\n",
    "lr_train_hi_lim = linear_model.LinearRegression()\n",
    "\n",
    "# Build the Linear Regression Model\n",
    "model_train_no_lim = lr_train_no_lim.fit(x_no_lim, y)\n",
    "predictions_train_no_lim = model_train_no_lim.predict(x_no_lim)\n",
    "\n",
    "model_train_med_lim = lr_train_med_lim.fit(x_med_lim, y)\n",
    "predictions_train_med_lim = model_train_med_lim.predict(x_med_lim)\n",
    "                                    \n",
    "model_train_hi_lim = lr_train_hi_lim.fit(x_hi_lim, y)\n",
    "predictions_train_hi_lim = model_train_hi_lim.predict(x_hi_lim)\n",
    "\n",
    "# Assign to arrays\n",
    "lr_train_list = [lr_train_no_lim, lr_train_med_lim, lr_train_hi_lim]\n",
    "model_train_list = [model_train_no_lim, model_train_med_lim, model_train_hi_lim]\n",
    "predictions_train_list = [predictions_train_no_lim, predictions_train_med_lim, predictions_train_hi_lim]"
   ]
  },
  {
   "cell_type": "code",
   "execution_count": 74,
   "id": "1b20c60e",
   "metadata": {
    "execution": {
     "iopub.execute_input": "2022-01-17T21:20:35.088690Z",
     "iopub.status.busy": "2022-01-17T21:20:35.087852Z",
     "iopub.status.idle": "2022-01-17T21:20:35.700892Z",
     "shell.execute_reply": "2022-01-17T21:20:35.700242Z",
     "shell.execute_reply.started": "2022-01-17T21:01:29.256357Z"
    },
    "papermill": {
     "duration": 0.677923,
     "end_time": "2022-01-17T21:20:35.701062",
     "exception": false,
     "start_time": "2022-01-17T21:20:35.023139",
     "status": "completed"
    },
    "tags": []
   },
   "outputs": [
    {
     "data": {
      "image/png": "[encoded data removed]",
      "text/plain": [
       "<Figure size 432x288 with 1 Axes>"
      ]
     },
     "metadata": {
      "needs_background": "light"
     },
     "output_type": "display_data"
    },
    {
     "data": {
      "image/png": "[encoded data removed]",
      "text/plain": [
       "<Figure size 432x288 with 1 Axes>"
      ]
     },
     "metadata": {
      "needs_background": "light"
     },
     "output_type": "display_data"
    },
    {
     "data": {
      "image/png": "[encoded data removed]",
      "text/plain": [
       "<Figure size 432x288 with 1 Axes>"
      ]
     },
     "metadata": {
      "needs_background": "light"
     },
     "output_type": "display_data"
    }
   ],
   "source": [
    "# Plot histogram of residuals\n",
    "\n",
    "\n",
    "# Cycle through all models\n",
    "count = 1\n",
    "for max_not_include, predictions_train in zip(max_not_include_list, predictions_train_list):\n",
    "    plt.hist(y - predictions_train)\n",
    "    plt.title(f'\\n\\nGroup {count} Residuals:\\n|Correlation| > {max_not_include}')\n",
    "    plt.show()\n",
    "    count += 1"
   ]
  },
  {
   "cell_type": "code",
   "execution_count": 75,
   "id": "bf96fb99",
   "metadata": {
    "execution": {
     "iopub.execute_input": "2022-01-17T21:20:35.975941Z",
     "iopub.status.busy": "2022-01-17T21:20:35.969709Z",
     "iopub.status.idle": "2022-01-17T21:20:36.456868Z",
     "shell.execute_reply": "2022-01-17T21:20:36.458415Z",
     "shell.execute_reply.started": "2022-01-17T21:01:29.759729Z"
    },
    "papermill": {
     "duration": 0.701574,
     "end_time": "2022-01-17T21:20:36.458730",
     "exception": false,
     "start_time": "2022-01-17T21:20:35.757156",
     "status": "completed"
    },
    "tags": []
   },
   "outputs": [
    {
     "data": {
      "image/png": "[encoded data removed]",
      "text/plain": [
       "<Figure size 432x288 with 1 Axes>"
      ]
     },
     "metadata": {
      "needs_background": "light"
     },
     "output_type": "display_data"
    },
    {
     "data": {
      "image/png": "[encoded data removed]",
      "text/plain": [
       "<Figure size 432x288 with 1 Axes>"
      ]
     },
     "metadata": {
      "needs_background": "light"
     },
     "output_type": "display_data"
    },
    {
     "data": {
      "image/png": "[encoded data removed]",
      "text/plain": [
       "<Figure size 432x288 with 1 Axes>"
      ]
     },
     "metadata": {
      "needs_background": "light"
     },
     "output_type": "display_data"
    }
   ],
   "source": [
    "# Scatter plot of predictions\n",
    "\n",
    "# Cycle through all models\n",
    "count = 1\n",
    "for max_not_include, predictions_train in zip(max_not_include_list, predictions_train_list): \n",
    "    plt.scatter(predictions_train, y)\n",
    "    plt.plot( [0,y.max()],[0,y.max()] )\n",
    "    plt.title(f'\\n\\nGroup {count} Predictions vs Actual:\\n|Correlation| > {max_not_include}')\n",
    "    plt.show() \n",
    "    count += 1"
   ]
  },
  {
   "cell_type": "markdown",
   "id": "34e78548",
   "metadata": {
    "papermill": {
     "duration": 0.057508,
     "end_time": "2022-01-17T21:20:36.574261",
     "exception": false,
     "start_time": "2022-01-17T21:20:36.516753",
     "status": "completed"
    },
    "tags": []
   },
   "source": [
    "[Back to top](#Index)\n",
    "\n",
    "### 3.3 Results\n",
    "\n",
    "The group with the maximum number of columns, irrespective of the correlation values, produced the best results. The more restrictive the grouping was, in terms of the correlation coefficient, the lower it performed.\n",
    "\n",
    "- The first group did not limit the number of variables by the correlation coefficient. It contained 91 variables and had a 90.38% accuracy. \n",
    "\n",
    "- The second group limited the number of variables to only those with a correlation coefficient greater than 0.19. The model contained 56 variables and had a 88.98% accuracy. \n",
    "\n",
    "- The last group limited the number of variables to only those with a correlation coefficient greater than 0.39. The model contained 29 variables and had a 88.24% accuracy.\n",
    "\n",
    "\n",
    "\n"
   ]
  },
  {
   "cell_type": "code",
   "execution_count": 76,
   "id": "58c681d9",
   "metadata": {
    "execution": {
     "iopub.execute_input": "2022-01-17T21:20:36.692918Z",
     "iopub.status.busy": "2022-01-17T21:20:36.692284Z",
     "iopub.status.idle": "2022-01-17T21:20:36.708901Z",
     "shell.execute_reply": "2022-01-17T21:20:36.708341Z",
     "shell.execute_reply.started": "2022-01-17T21:01:30.336885Z"
    },
    "papermill": {
     "duration": 0.077045,
     "end_time": "2022-01-17T21:20:36.709062",
     "exception": false,
     "start_time": "2022-01-17T21:20:36.632017",
     "status": "completed"
    },
    "tags": []
   },
   "outputs": [
    {
     "name": "stdout",
     "output_type": "stream",
     "text": [
      "\n",
      "Coefficient of Determination (Train):\n",
      "\n",
      "\tGroup 1 R^2 |corr| > 0.0: The sales price is being predicted with 90.38% accuracy by 34 columns.\n",
      "\n",
      "\tGroup 2 R^2 |corr| > 0.19: The sales price is being predicted with 88.98% accuracy by 25 columns.\n",
      "\n",
      "\tGroup 3 R^2 |corr| > 0.39: The sales price is being predicted with 88.24% accuracy by 15 columns.\n",
      "\n"
     ]
    }
   ],
   "source": [
    "# Determine accuracy of model compared\n",
    "\n",
    "score_train_list = []\n",
    "\n",
    "print(f'\\nCoefficient of Determination (Train):\\n')\n",
    "\n",
    "# Cycle through all models\n",
    "count = 1\n",
    "for max_not_include, lim_corr_cols, model_train, x_train in zip(max_not_include_list, lim_corr_cols_list, model_train_list, x_train_list):\n",
    "    score_train = model_train.score(x_train, y)\n",
    "    print(f'\\tGroup {count} R^2 |corr| > {max_not_include}: The sales price is being predicted with {score_train:.2%} accuracy by {len(lim_corr_cols)} columns.\\n')\n",
    "    score_train_list.append(score_train)\n",
    "    count += 1"
   ]
  },
  {
   "cell_type": "markdown",
   "id": "367329ed",
   "metadata": {
    "papermill": {
     "duration": 0.058607,
     "end_time": "2022-01-17T21:20:36.828084",
     "exception": false,
     "start_time": "2022-01-17T21:20:36.769477",
     "status": "completed"
    },
    "tags": []
   },
   "source": [
    "[Back to top](#Index)\n",
    "\n",
    "### 3.4 Verify Your Model Against Test Data\n",
    "\n",
    "The model performed well against the testing data. In addition, similar performance was observed between the training and testing data. \n",
    "\n",
    "The performance on the testing data showed that more restrictive limitations placed on the correlation coefficient resulted in lower model scores. \n",
    "\n",
    "Based on this observation, the model appears to be a well-fitted linear regression model. "
   ]
  },
  {
   "cell_type": "code",
   "execution_count": 77,
   "id": "ae7b30cc",
   "metadata": {
    "execution": {
     "iopub.execute_input": "2022-01-17T21:20:36.958567Z",
     "iopub.status.busy": "2022-01-17T21:20:36.957460Z",
     "iopub.status.idle": "2022-01-17T21:20:37.000313Z",
     "shell.execute_reply": "2022-01-17T21:20:37.001187Z",
     "shell.execute_reply.started": "2022-01-17T21:01:30.354532Z"
    },
    "papermill": {
     "duration": 0.114281,
     "end_time": "2022-01-17T21:20:37.001489",
     "exception": false,
     "start_time": "2022-01-17T21:20:36.887208",
     "status": "completed"
    },
    "tags": []
   },
   "outputs": [
    {
     "name": "stdout",
     "output_type": "stream",
     "text": [
      "\n",
      "Coefficient of Determination (Test):\n",
      "\n",
      "\tGroup 1 R^2 |corr| > 0.0: The sales price is being predicted with 93.52% by 34 columns.\n",
      "\n",
      "\t\tThis is a 3.14% increase from the training data.\n",
      "\n",
      "\n",
      "\tGroup 2 R^2 |corr| > 0.19: The sales price is being predicted with 91.80% by 25 columns.\n",
      "\n",
      "\t\tThis is a 2.81% increase from the training data.\n",
      "\n",
      "\n",
      "\tGroup 3 R^2 |corr| > 0.39: The sales price is being predicted with 85.05% by 15 columns.\n",
      "\n",
      "\t\tThis is a 3.19% decrease from the training data.\n",
      "\n",
      "\n"
     ]
    }
   ],
   "source": [
    "# Determine accuracy compared to test data\n",
    "\n",
    "print(f'\\nCoefficient of Determination (Test):\\n')\n",
    "\n",
    "# Cycle through all models\n",
    "count = 1\n",
    "for max_not_include, lim_corr_cols, lr_test, score_train in zip(max_not_include_list, lim_corr_cols_list, lr_train_list, score_train_list):\n",
    "    # Get x, y values from test data\n",
    "    x_test = clean_test_data[lim_corr_cols]\n",
    "    y_test = clean_test_data['SalePrice']\n",
    "\n",
    "\n",
    "    # Build Linear Regression Model\n",
    "    lr_test = linear_model.LinearRegression()\n",
    "    model_test = lr_test.fit(x_test, y_test)\n",
    "    predictions_test = model_test.predict(x_test)\n",
    "\n",
    "    # Score model against test data\n",
    "    score_test = model_test.score(x_test, y_test)\n",
    "\n",
    "    # Determine difference between the scores of the test and training data\n",
    "    score_diff = score_test - score_train\n",
    "    score_sign = \"decrease\" if score_diff < 0 else \"increase\"\n",
    "    print(f'\\tGroup {count} R^2 |corr| > {max_not_include}: The sales price is being predicted with {score_test:.2%} by {len(lim_corr_cols)} columns.\\n\\n\\t\\tThis is a {np.abs(score_diff):.2%} {score_sign} from the training data.\\n\\n')\n",
    "    count += 1"
   ]
  },
  {
   "attachments": {
    "782252b3-526f-4207-b91a-bfb056a9ae8b.png": {
     "image/png": "[encoded data removed]"
    }
   },
   "cell_type": "markdown",
   "id": "296fee08",
   "metadata": {
    "papermill": {
     "duration": 0.058506,
     "end_time": "2022-01-17T21:20:37.154521",
     "exception": false,
     "start_time": "2022-01-17T21:20:37.096015",
     "status": "completed"
    },
    "tags": []
   },
   "source": [
    "[Back to top](#Index)\n",
    "\n",
    "## Conclusion\n",
    "\n",
    "It is clear from the results that creating reliable house pricing models is no longer only the domain of deep-pocketed Wall Street firms. Accurate pricing models can be created by using publicly available datasets and software tools. \n",
    "\n",
    "\n",
    "Limiting results by the correlation coefficient had an adverse effect on the model score. There are several reasons why adding more variables with no correlation increased the models' scores. For example, it could have been a stimulating relationship in which the explanatory variable influences the sales price, but only in the presence of another explanatory variable. Or the relationship could have been complex in which many explanatory variables contribute to the influence of the sales price.[2]\n",
    "\n"
   ]
  },
  {
   "cell_type": "markdown",
   "id": "b18130f8",
   "metadata": {
    "papermill": {
     "duration": 0.058437,
     "end_time": "2022-01-17T21:20:37.271481",
     "exception": false,
     "start_time": "2022-01-17T21:20:37.213044",
     "status": "completed"
    },
    "tags": []
   },
   "source": [
    "\n",
    "[Back to top](#Index\n",
    ")\n",
    "## References\n",
    "\n",
    "1. Chen, B. \"What is One-Hot Encoding and how to use Pandas get_dummies function.\" Toward Data Science. Medium, June 18, 2021. https://towardsdatascience.com/what-is-one-hot-encoding-and-how-to-use-pandas-get-dummies-function-922eb9bd4970\n",
    "\n",
    "2. Kufs, C. (2014, November 2). Why you don't always get the correlation you expect. Stats With Cats Blog. Retrieved January 17, 2022, from https://statswithcats.net/2014/11/02/why-you-dont-always-get-the-correlation-you-expect/ \n",
    "\n",
    "3. LaMorte, W. W. (2021, April 21). PH717 module 9 - correlation and regression. The Correlation Coefficient (r). Retrieved January 16, 2022, from https://sphweb.bumc.bu.edu/otlt/MPH-Modules/PH717-QuantCore/PH717-Module9-Correlation-Regression/PH717-Module9-Correlation-Regression4.html \n",
    "\n",
    "4. Linear Regression. Linear regression. (n.d.). Retrieved January 16, 2022, from http://www.stat.yale.edu/Courses/1997-98/101/linreg.htm \n",
    "\n",
    "5. Swarmplot using Seaborn in python. GeeksforGeeks. (2020, November 6). Retrieved January 16, 2022, from https://www.geeksforgeeks.org/swarmplot-using-seaborn-in-python/ \n",
    "\n",
    "6. Union Grove. (n.d.). Least-squares regression . AP Statistics Notes. Retrieved January 17, 2022, from http://www.henry.k12.ga.us/ugh/apstat/chapternotes/sec3.3.html "
   ]
  }
 ],
 "metadata": {
  "kernelspec": {
   "display_name": "Python 3",
   "language": "python",
   "name": "python3"
  },
  "language_info": {
   "codemirror_mode": {
    "name": "ipython",
    "version": 3
   },
   "file_extension": ".py",
   "mimetype": "text/x-python",
   "name": "python",
   "nbconvert_exporter": "python",
   "pygments_lexer": "ipython3",
   "version": "3.10.0"
  },
  "papermill": {
   "default_parameters": {},
   "duration": 19.30559,
   "end_time": "2022-01-17T21:20:38.040788",
   "environment_variables": {},
   "exception": null,
   "input_path": "__notebook__.ipynb",
   "output_path": "__notebook__.ipynb",
   "parameters": {},
   "start_time": "2022-01-17T21:20:18.735198",
   "version": "2.3.3"
  }
 },
 "nbformat": 4,
 "nbformat_minor": 5
}
